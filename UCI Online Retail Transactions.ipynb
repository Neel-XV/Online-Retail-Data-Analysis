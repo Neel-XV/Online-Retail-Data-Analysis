{
 "cells": [
  {
   "cell_type": "code",
   "execution_count": 0,
   "metadata": {
    "application/vnd.databricks.v1+cell": {
     "cellMetadata": {
      "byteLimit": 2048000,
      "rowLimit": 10000
     },
     "inputWidgets": {},
     "nuid": "5c871ab0-2db3-4f5b-9472-3e88e48294c6",
     "showTitle": true,
     "tableResultSettingsMap": {},
     "title": "Install UCI ML Repo Package and Restart Python"
    }
   },
   "outputs": [
    {
     "output_type": "stream",
     "name": "stdout",
     "output_type": "stream",
     "text": [
      "\u001B[43mNote: you may need to restart the kernel using %restart_python or dbutils.library.restartPython() to use updated packages.\u001B[0m\n"
     ]
    }
   ],
   "source": [
    "%pip install ucimlrepo --quiet\n",
    "dbutils.library.restartPython()"
   ]
  },
  {
   "cell_type": "code",
   "execution_count": 0,
   "metadata": {
    "application/vnd.databricks.v1+cell": {
     "cellMetadata": {
      "byteLimit": 2048000,
      "rowLimit": 10000
     },
     "inputWidgets": {},
     "nuid": "6cbb3b2d-f687-4abb-b2d5-09ca4278a0e0",
     "showTitle": true,
     "tableResultSettingsMap": {},
     "title": "Initialize Spark Session and Import Libraries"
    }
   },
   "outputs": [],
   "source": [
    "# Import required libraries\n",
    "from ucimlrepo import fetch_ucirepo \n",
    "from pyspark.sql import SparkSession\n",
    "from pyspark.sql.functions import *\n",
    "from pyspark.sql.types import *\n",
    "from pyspark.sql.window import Window\n",
    "import datetime\n",
    "\n",
    "# Initialize Spark session\n",
    "spark = SparkSession.builder.appName(\"OnlineRetailAnalytics\").getOrCreate()"
   ]
  },
  {
   "cell_type": "code",
   "execution_count": 0,
   "metadata": {
    "application/vnd.databricks.v1+cell": {
     "cellMetadata": {
      "byteLimit": 2048000,
      "rowLimit": 10000
     },
     "inputWidgets": {},
     "nuid": "73a21d7e-9fe7-4df6-8666-e03855ce2a39",
     "showTitle": true,
     "tableResultSettingsMap": {},
     "title": "Ingest Online Retail Data from UCI to Spark DataFrame"
    }
   },
   "outputs": [
    {
     "output_type": "stream",
     "name": "stdout",
     "output_type": "stream",
     "text": [
      "=== BRONZE LAYER: DATA INGESTION ===\nTotal records ingested: 541,909\nroot\n |-- InvoiceNo: string (nullable = true)\n |-- StockCode: string (nullable = true)\n |-- Description: string (nullable = true)\n |-- Quantity: integer (nullable = true)\n |-- InvoiceDate: string (nullable = true)\n |-- UnitPrice: double (nullable = true)\n |-- CustomerID: double (nullable = true)\n |-- Country: string (nullable = true)\n\n"
     ]
    }
   ],
   "source": [
    "# ==========================================\n",
    "# BRONZE LAYER - DATA INGESTION\n",
    "# ==========================================\n",
    "\n",
    "print(\"=== BRONZE LAYER: DATA INGESTION ===\")\n",
    "\n",
    "# Fetch the Online Retail dataset from UCI repository\n",
    "online_retail = fetch_ucirepo(id=352)\n",
    "\n",
    "# Define explicit schema for data consistency\n",
    "schema = StructType([\n",
    "    StructField(\"InvoiceNo\", StringType(), True),\n",
    "    StructField(\"StockCode\", StringType(), True),\n",
    "    StructField(\"Description\", StringType(), True),\n",
    "    StructField(\"Quantity\", IntegerType(), True),\n",
    "    StructField(\"InvoiceDate\", StringType(), True),\n",
    "    StructField(\"UnitPrice\", DoubleType(), True),\n",
    "    StructField(\"CustomerID\", DoubleType(), True),\n",
    "    StructField(\"Country\", StringType(), True)\n",
    "])\n",
    "\n",
    "# Convert pandas DataFrame to Spark DataFrame with schema\n",
    "retail_spark_df = spark.createDataFrame(online_retail.data.original, schema=schema)\n",
    "\n",
    "print(f\"Total records ingested: {retail_spark_df.count():,}\")\n",
    "retail_spark_df.printSchema()"
   ]
  },
  {
   "cell_type": "code",
   "execution_count": 0,
   "metadata": {
    "application/vnd.databricks.v1+cell": {
     "cellMetadata": {
      "byteLimit": 2048000,
      "rowLimit": 10000
     },
     "inputWidgets": {},
     "nuid": "2d31ee23-909a-4afe-9712-7b718bcfc701",
     "showTitle": true,
     "tableResultSettingsMap": {},
     "title": "Clean and Transform Retail Data in Bronze Layer"
    }
   },
   "outputs": [
    {
     "output_type": "stream",
     "name": "stdout",
     "output_type": "stream",
     "text": [
      "=== BRONZE LAYER: BASIC CLEANING ===\nRecords after cleaning: 397,884\nUnique customers: 4,338\nDate range: 2010-12-01 08:26:00 to 2011-12-09 12:50:00\n Bronze layer saved: online_retail_bronze\n"
     ]
    }
   ],
   "source": [
    "# ==========================================\n",
    "# BRONZE LAYER - BASIC DATA CLEANING\n",
    "# ==========================================\n",
    "\n",
    "print(\"=== BRONZE LAYER: BASIC CLEANING ===\")\n",
    "\n",
    "# Apply basic transformations and filters\n",
    "retail_clean_df = retail_spark_df \\\n",
    "    .withColumn(\"InvoiceDate\", to_timestamp(col(\"InvoiceDate\"), \"M/d/yyyy H:mm\")) \\\n",
    "    .withColumn(\"CustomerID\", col(\"CustomerID\").cast(\"integer\")) \\\n",
    "    .withColumn(\"TotalPrice\", col(\"Quantity\") * col(\"UnitPrice\")) \\\n",
    "    .filter(col(\"Quantity\") > 0) \\\n",
    "    .filter(col(\"UnitPrice\") > 0) \\\n",
    "    .filter(col(\"CustomerID\").isNotNull())\n",
    "\n",
    "# Display data quality metrics\n",
    "print(f\"Records after cleaning: {retail_clean_df.count():,}\")\n",
    "print(f\"Unique customers: {retail_clean_df.select('CustomerID').distinct().count():,}\")\n",
    "\n",
    "# Show date range of the dataset\n",
    "date_range = retail_clean_df.agg(min('InvoiceDate'), max('InvoiceDate')).collect()[0]\n",
    "print(f\"Date range: {date_range[0]} to {date_range[1]}\")\n",
    "\n",
    "# Save Bronze layer to Delta table\n",
    "retail_clean_df.write \\\n",
    "    .format(\"delta\") \\\n",
    "    .mode(\"overwrite\") \\\n",
    "    .option(\"mergeSchema\", \"true\") \\\n",
    "    .saveAsTable(\"online_retail_bronze\")\n",
    "\n",
    "print(\" Bronze layer saved: online_retail_bronze\")"
   ]
  },
  {
   "cell_type": "code",
   "execution_count": 0,
   "metadata": {
    "application/vnd.databricks.v1+cell": {
     "cellMetadata": {
      "byteLimit": 2048000,
      "rowLimit": 10000
     },
     "inputWidgets": {},
     "nuid": "eaa2cf3e-579e-4d28-abc4-37cb9cc1722f",
     "showTitle": true,
     "tableResultSettingsMap": {},
     "title": "Enrich and Categorize Data in Silver Layer"
    }
   },
   "outputs": [
    {
     "output_type": "stream",
     "name": "stdout",
     "output_type": "stream",
     "text": [
      "=== SILVER LAYER: DATA ENRICHMENT ===\nSilver layer records: 397,884\n"
     ]
    }
   ],
   "source": [
    "# ==========================================\n",
    "# SILVER LAYER - DATA ENRICHMENT\n",
    "# ==========================================\n",
    "\n",
    "print(\"=== SILVER LAYER: DATA ENRICHMENT ===\")\n",
    "\n",
    "# Read from Bronze layer\n",
    "bronze_df = spark.table(\"online_retail_bronze\")\n",
    "\n",
    "# Add time-based features and business categorizations\n",
    "silver_df = bronze_df \\\n",
    "    .withColumn(\"Year\", year(col(\"InvoiceDate\"))) \\\n",
    "    .withColumn(\"Month\", month(col(\"InvoiceDate\"))) \\\n",
    "    .withColumn(\"Quarter\", quarter(col(\"InvoiceDate\"))) \\\n",
    "    .withColumn(\"DayOfWeek\", dayofweek(col(\"InvoiceDate\"))) \\\n",
    "    .withColumn(\"Hour\", hour(col(\"InvoiceDate\"))) \\\n",
    "    .withColumn(\"TotalPrice\", round(col(\"Quantity\") * col(\"UnitPrice\"), 2))\n",
    "\n",
    "# Add day name for better readability\n",
    "silver_df = silver_df.withColumn(\"DayName\", \n",
    "    when(col(\"DayOfWeek\") == 1, \"Sunday\")\n",
    "    .when(col(\"DayOfWeek\") == 2, \"Monday\")\n",
    "    .when(col(\"DayOfWeek\") == 3, \"Tuesday\")\n",
    "    .when(col(\"DayOfWeek\") == 4, \"Wednesday\")\n",
    "    .when(col(\"DayOfWeek\") == 5, \"Thursday\")\n",
    "    .when(col(\"DayOfWeek\") == 6, \"Friday\")\n",
    "    .when(col(\"DayOfWeek\") == 7, \"Saturday\")\n",
    ")\n",
    "\n",
    "# Add weekend indicator and product categorization\n",
    "silver_df = silver_df \\\n",
    "    .withColumn(\"IsWeekend\", when(col(\"DayOfWeek\").isin([1, 7]), 1).otherwise(0)) \\\n",
    "    .withColumn(\"ProductCategory\", \n",
    "        when(col(\"StockCode\").startswith(\"POST\"), \"Postage\")\n",
    "        .when(col(\"StockCode\").startswith(\"D\"), \"Discount\")\n",
    "        .when(col(\"StockCode\").startswith(\"C\"), \"Cancelled\")\n",
    "        .when(col(\"StockCode\").startswith(\"M\"), \"Manual\")\n",
    "        .when(col(\"StockCode\").contains(\"BANK\"), \"Bank_Charges\")\n",
    "        .otherwise(\"Product\")\n",
    "    ) \\\n",
    "    .withColumn(\"created_at\", current_timestamp())\n",
    "\n",
    "print(f\"Silver layer records: {silver_df.count():,}\")"
   ]
  },
  {
   "cell_type": "code",
   "execution_count": 0,
   "metadata": {
    "application/vnd.databricks.v1+cell": {
     "cellMetadata": {
      "byteLimit": 2048000,
      "rowLimit": 10000
     },
     "inputWidgets": {},
     "nuid": "c8015f45-59df-4e3a-9c80-dec000ef8ba4",
     "showTitle": true,
     "tableResultSettingsMap": {},
     "title": "Deduplicate and Save Retail Data to Silver Layer"
    }
   },
   "outputs": [
    {
     "output_type": "stream",
     "name": "stdout",
     "output_type": "stream",
     "text": [
      "Removing duplicate records...\n Silver layer saved with 387,841 records\n"
     ]
    }
   ],
   "source": [
    "# Remove duplicate records based on business logic\n",
    "print(\"Removing duplicate records...\")\n",
    "\n",
    "# Define window for deduplication\n",
    "dedup_window = Window.partitionBy(\"InvoiceNo\", \"StockCode\", \"CustomerID\").orderBy(col(\"InvoiceDate\").desc())\n",
    "\n",
    "# Keep only the latest record for each unique combination\n",
    "silver_df = silver_df \\\n",
    "    .withColumn(\"row_num\", row_number().over(dedup_window)) \\\n",
    "    .filter(col(\"row_num\") == 1) \\\n",
    "    .drop(\"row_num\")\n",
    "\n",
    "# Save Silver layer with partitioning for better performance\n",
    "silver_df.write \\\n",
    "    .format(\"delta\") \\\n",
    "    .mode(\"overwrite\") \\\n",
    "    .option(\"mergeSchema\", \"true\") \\\n",
    "    .partitionBy(\"Year\", \"Month\") \\\n",
    "    .saveAsTable(\"online_retail_silver\")\n",
    "\n",
    "print(f\" Silver layer saved with {silver_df.count():,} records\")"
   ]
  },
  {
   "cell_type": "code",
   "execution_count": 0,
   "metadata": {
    "application/vnd.databricks.v1+cell": {
     "cellMetadata": {
      "byteLimit": 2048000,
      "rowLimit": 10000
     },
     "inputWidgets": {},
     "nuid": "19976713-a906-4844-bc64-e659838ebcca",
     "showTitle": true,
     "tableResultSettingsMap": {},
     "title": "Analyze Customer RFM Metrics in Gold Layer"
    }
   },
   "outputs": [
    {
     "output_type": "stream",
     "name": "stdout",
     "output_type": "stream",
     "text": [
      "=== GOLD LAYER: CUSTOMER RFM ANALYSIS ===\nAnalysis reference date: 2011-12-09 12:50:00\nTotal customers analyzed: 4,346\n"
     ]
    }
   ],
   "source": [
    "# ==========================================\n",
    "# GOLD LAYER - CUSTOMER ANALYTICS (RFM)\n",
    "# ==========================================\n",
    "\n",
    "print(\"=== GOLD LAYER: CUSTOMER RFM ANALYSIS ===\")\n",
    "\n",
    "# Read from Silver layer\n",
    "silver_df = spark.table(\"online_retail_silver\")\n",
    "\n",
    "# Get the latest date in the dataset for recency calculations\n",
    "current_date = silver_df.agg(max(\"InvoiceDate\")).collect()[0][0]\n",
    "print(f\"Analysis reference date: {current_date}\")\n",
    "\n",
    "# Calculate base RFM metrics for each customer\n",
    "customer_base_metrics = silver_df \\\n",
    "    .filter(col(\"CustomerID\").isNotNull()) \\\n",
    "    .filter(col(\"TotalPrice\") > 0) \\\n",
    "    .groupBy(\"CustomerID\", \"Country\") \\\n",
    "    .agg(\n",
    "        # Recency: Days since last purchase\n",
    "        datediff(lit(current_date), max(\"InvoiceDate\")).alias(\"Recency\"),\n",
    "        # Frequency: Number of unique invoices (transactions)\n",
    "        countDistinct(\"InvoiceNo\").alias(\"Frequency\"),\n",
    "        # Monetary: Total amount spent\n",
    "        round(sum(\"TotalPrice\"), 2).alias(\"Monetary\"),\n",
    "        # Additional customer insights\n",
    "        count(\"*\").alias(\"TotalItems\"),\n",
    "        countDistinct(\"StockCode\").alias(\"UniqueProducts\"),\n",
    "        min(\"InvoiceDate\").alias(\"FirstPurchase\"),\n",
    "        max(\"InvoiceDate\").alias(\"LastPurchase\"),\n",
    "        round(avg(\"TotalPrice\"), 2).alias(\"AvgOrderValue\"),\n",
    "        round(sum(\"TotalPrice\") / countDistinct(\"InvoiceNo\"), 2).alias(\"AvgBasketValue\")\n",
    "    )\n",
    "\n",
    "print(f\"Total customers analyzed: {customer_base_metrics.count():,}\")"
   ]
  },
  {
   "cell_type": "code",
   "execution_count": 0,
   "metadata": {
    "application/vnd.databricks.v1+cell": {
     "cellMetadata": {
      "byteLimit": 2048000,
      "rowLimit": 10000
     },
     "inputWidgets": {},
     "nuid": "4733fa63-e6e3-4d72-8aa5-ee709c81e332",
     "showTitle": true,
     "tableResultSettingsMap": {},
     "title": "Validate RFM Data Quality Before Scoring"
    }
   },
   "outputs": [
    {
     "output_type": "stream",
     "name": "stdout",
     "output_type": "stream",
     "text": [
      "=== RFM DATA QUALITY VALIDATION ===\nCustomers with invalid monetary values: 0\nCustomers with invalid frequency values: 0\nCustomers with invalid recency values: 0\nClean customers for RFM scoring: 4,346\n"
     ]
    }
   ],
   "source": [
    "# Perform data quality validation before RFM scoring\n",
    "print(\"=== RFM DATA QUALITY VALIDATION ===\")\n",
    "\n",
    "# Check for invalid data that could skew RFM analysis\n",
    "invalid_monetary = customer_base_metrics.filter(col(\"Monetary\") <= 0).count()\n",
    "invalid_frequency = customer_base_metrics.filter(col(\"Frequency\") <= 0).count()\n",
    "invalid_recency = customer_base_metrics.filter(col(\"Recency\") < 0).count()\n",
    "\n",
    "print(f\"Customers with invalid monetary values: {invalid_monetary}\")\n",
    "print(f\"Customers with invalid frequency values: {invalid_frequency}\")\n",
    "print(f\"Customers with invalid recency values: {invalid_recency}\")\n",
    "\n",
    "# Filter to clean dataset for accurate RFM scoring\n",
    "clean_customers = customer_base_metrics.filter(\n",
    "    (col(\"Monetary\") > 0) & \n",
    "    (col(\"Frequency\") > 0) & \n",
    "    (col(\"Recency\") >= 0)\n",
    ")\n",
    "\n",
    "print(f\"Clean customers for RFM scoring: {clean_customers.count():,}\")"
   ]
  },
  {
   "cell_type": "code",
   "execution_count": 0,
   "metadata": {
    "application/vnd.databricks.v1+cell": {
     "cellMetadata": {
      "byteLimit": 2048000,
      "rowLimit": 10000
     },
     "inputWidgets": {},
     "nuid": "caf6f4a1-6c6e-47a5-a0c0-ddb4fe436369",
     "showTitle": true,
     "tableResultSettingsMap": {},
     "title": "Calculate and Validate RFM Scores Using Quintiles"
    }
   },
   "outputs": [
    {
     "output_type": "stream",
     "name": "stdout",
     "output_type": "stream",
     "text": [
      "Calculating RFM scores...\nRFM Score Distribution:\nR_Score (Recency):\n+-------+-----+\n|R_Score|count|\n+-------+-----+\n|      1|  869|\n|      2|  869|\n|      3|  869|\n|      4|  869|\n|      5|  870|\n+-------+-----+\n\nF_Score (Frequency):\n+-------+-----+\n|F_Score|count|\n+-------+-----+\n|      1|  870|\n|      2|  869|\n|      3|  869|\n|      4|  869|\n|      5|  869|\n+-------+-----+\n\nM_Score (Monetary):\n+-------+-----+\n|M_Score|count|\n+-------+-----+\n|      1|  870|\n|      2|  869|\n|      3|  869|\n|      4|  869|\n|      5|  869|\n+-------+-----+\n\n"
     ]
    }
   ],
   "source": [
    "# Calculate RFM scores using quintiles\n",
    "print(\"Calculating RFM scores...\")\n",
    "\n",
    "# Apply quintile scoring for each RFM component\n",
    "# Note: For Recency, lower values (more recent) get higher scores, so we reverse the ranking\n",
    "\n",
    "# Define window specifications with explicit partitioning\n",
    "# Using lit(1) to create a single partition for global quintiles across all customers\n",
    "recency_window = Window.partitionBy(lit(1)).orderBy(\"Recency\")\n",
    "frequency_window = Window.partitionBy(lit(1)).orderBy(col(\"Frequency\").desc())\n",
    "monetary_window = Window.partitionBy(lit(1)).orderBy(col(\"Monetary\").desc())\n",
    "\n",
    "# Apply quintile scoring for each RFM component\n",
    "# Note: For Recency, lower values (more recent) get higher scores, so we reverse the ranking\n",
    "rfm_scored = clean_customers \\\n",
    "    .withColumn(\"R_Score\", 6 - ntile(5).over(recency_window)) \\\n",
    "    .withColumn(\"F_Score\", ntile(5).over(frequency_window)) \\\n",
    "    .withColumn(\"M_Score\", ntile(5).over(monetary_window)) \\\n",
    "    .withColumn(\"RFM_Score\", concat(col(\"R_Score\"), col(\"F_Score\"), col(\"M_Score\")))\n",
    "\n",
    "# Display RFM score distribution to validate proper quintile creation\n",
    "print(\"RFM Score Distribution:\")\n",
    "print(\"R_Score (Recency):\")\n",
    "rfm_scored.groupBy(\"R_Score\").count().orderBy(\"R_Score\").show()\n",
    "print(\"F_Score (Frequency):\")\n",
    "rfm_scored.groupBy(\"F_Score\").count().orderBy(\"F_Score\").show()\n",
    "print(\"M_Score (Monetary):\")\n",
    "rfm_scored.groupBy(\"M_Score\").count().orderBy(\"M_Score\").show()"
   ]
  },
  {
   "cell_type": "code",
   "execution_count": 0,
   "metadata": {
    "application/vnd.databricks.v1+cell": {
     "cellMetadata": {
      "byteLimit": 2048000,
      "rowLimit": 10000
     },
     "inputWidgets": {},
     "nuid": "f4275f21-2cbe-4251-9432-8c6510c8293f",
     "showTitle": true,
     "tableResultSettingsMap": {},
     "title": "Segment Customers Based on RFM Score"
    }
   },
   "outputs": [
    {
     "output_type": "stream",
     "name": "stdout",
     "output_type": "stream",
     "text": [
      "Applying customer segmentation...\nCustomer Segment Distribution:\n+-------------------+-----+\n|    CustomerSegment|count|\n+-------------------+-----+\n|      New_Customers| 1092|\n|             Others|  919|\n|            At_Risk|  629|\n|    Loyal_Customers|  443|\n|          Promising|  411|\n|     Need_Attention|  385|\n|        Cannot_Lose|  239|\n|          Champions|  147|\n|Potential_Loyalists|   81|\n+-------------------+-----+\n\n"
     ]
    }
   ],
   "source": [
    "# Apply customer segmentation based on RFM scores\n",
    "print(\"Applying customer segmentation...\")\n",
    "\n",
    "customer_analytics_final = rfm_scored.withColumn(\"CustomerSegment\", \n",
    "    # Champions: High value customers who buy frequently and recently\n",
    "    when(col(\"RFM_Score\").isin([\n",
    "        \"555\", \"554\", \"544\", \"545\", \"454\", \"455\", \"445\", \"553\", \"552\"\n",
    "    ]), \"Champions\")\n",
    "    \n",
    "    # Loyal Customers: Regular customers with good purchase history\n",
    "    .when(col(\"RFM_Score\").isin([\n",
    "        \"543\", \"444\", \"435\", \"355\", \"354\", \"345\", \"344\", \"335\", \"434\", \"343\"\n",
    "    ]), \"Loyal_Customers\")\n",
    "    \n",
    "    # Potential Loyalists: Recent customers with growth potential\n",
    "    .when(col(\"RFM_Score\").isin([\n",
    "        \"551\", \"541\", \"542\", \"533\", \"532\", \"531\", \"452\", \"451\", \"453\", \"342\", \"351\", \"352\", \"353\"\n",
    "    ]), \"Potential_Loyalists\")\n",
    "    \n",
    "    # New Customers: Recent first-time or low-frequency buyers\n",
    "    .when(col(\"RFM_Score\").isin([\n",
    "        \"512\", \"511\", \"421\", \"422\", \"412\", \"411\", \"311\", \"312\", \"313\", \"314\", \"321\", \"322\"\n",
    "    ]), \"New_Customers\")\n",
    "    \n",
    "    # At Risk: Good customers who haven't purchased recently\n",
    "    .when(col(\"RFM_Score\").isin([\n",
    "        \"155\", \"154\", \"144\", \"214\", \"215\", \"115\", \"114\", \"113\", \"145\", \"125\", \"124\"\n",
    "    ]), \"At_Risk\")\n",
    "    \n",
    "    # Cannot Lose: High-value customers at high risk of churning\n",
    "    .when(col(\"RFM_Score\").isin([\n",
    "        \"123\", \"122\", \"121\", \"223\", \"222\", \"221\", \"213\", \"231\", \"141\", \"142\", \"143\", \"112\", \"111\"\n",
    "    ]), \"Cannot_Lose\")\n",
    "    \n",
    "    # Promising: New customers with decent purchase potential\n",
    "    .when(col(\"RFM_Score\").isin([\n",
    "        \"244\", \"245\", \"254\", \"255\", \"334\", \"325\", \"324\", \"323\"\n",
    "    ]), \"Promising\")\n",
    "    \n",
    "    # Need Attention: Below average customers who need activation\n",
    "    .when(col(\"RFM_Score\").isin([\n",
    "        \"253\", \"252\", \"251\", \"243\", \"242\", \"241\", \"235\", \"234\", \"233\", \"232\"\n",
    "    ]), \"Need_Attention\")\n",
    "    \n",
    "    # All other combinations\n",
    "    .otherwise(\"Others\")\n",
    ") \\\n",
    ".withColumn(\"created_at\", current_timestamp())\n",
    "\n",
    "# Display customer segment distribution\n",
    "print(\"Customer Segment Distribution:\")\n",
    "customer_analytics_final.groupBy(\"CustomerSegment\").count().orderBy(col(\"count\").desc()).show()"
   ]
  },
  {
   "cell_type": "code",
   "execution_count": 0,
   "metadata": {
    "application/vnd.databricks.v1+cell": {
     "cellMetadata": {
      "byteLimit": 2048000,
      "rowLimit": 10000
     },
     "inputWidgets": {},
     "nuid": "08fc9df1-084c-4d51-ade9-429523802034",
     "showTitle": true,
     "tableResultSettingsMap": {},
     "title": "Save and Display Customer Analytics in Gold Layer"
    }
   },
   "outputs": [
    {
     "output_type": "stream",
     "name": "stdout",
     "output_type": "stream",
     "text": [
      " Customer Analytics saved to: gold_customer_analytics\nSample Customer Analytics Results:\n+----------+--------------+-------+---------+---------+-------+-------+-------+---------+-------------------+\n|CustomerID|       Country|Recency|Frequency| Monetary|R_Score|F_Score|M_Score|RFM_Score|    CustomerSegment|\n+----------+--------------+-------+---------+---------+-------+-------+-------+---------+-------------------+\n|     14646|   Netherlands|      1|       73|280206.02|      5|      1|      1|      511|      New_Customers|\n|     18102|United Kingdom|      0|       60| 259657.3|      5|      1|      1|      511|      New_Customers|\n|     17450|United Kingdom|      8|       46|194390.79|      5|      1|      1|      511|      New_Customers|\n|     16446|United Kingdom|      0|        2| 168472.5|      5|      3|      1|      531|Potential_Loyalists|\n|     14911|          EIRE|      1|      201|143711.17|      5|      1|      1|      511|      New_Customers|\n|     12415|     Australia|     24|       21|124914.53|      4|      1|      1|      411|      New_Customers|\n|     14156|          EIRE|      9|       55|117193.58|      5|      1|      1|      511|      New_Customers|\n|     17511|United Kingdom|      2|       31| 91062.38|      5|      1|      1|      511|      New_Customers|\n|     16029|United Kingdom|     38|       63| 80613.24|      3|      1|      1|      311|      New_Customers|\n|     12346|United Kingdom|    325|        1|  77183.6|      1|      5|      1|      151|             Others|\n+----------+--------------+-------+---------+---------+-------+-------+-------+---------+-------------------+\nonly showing top 10 rows\n"
     ]
    }
   ],
   "source": [
    "# Save customer analytics to Gold layer\n",
    "customer_analytics_final.write \\\n",
    "    .format(\"delta\") \\\n",
    "    .mode(\"overwrite\") \\\n",
    "    .saveAsTable(\"gold_customer_analytics\")\n",
    "\n",
    "print(\" Customer Analytics saved to: gold_customer_analytics\")\n",
    "\n",
    "# Display sample results for verification\n",
    "print(\"Sample Customer Analytics Results:\")\n",
    "customer_analytics_final.select(\n",
    "    \"CustomerID\", \"Country\", \"Recency\", \"Frequency\", \"Monetary\", \n",
    "    \"R_Score\", \"F_Score\", \"M_Score\", \"RFM_Score\", \"CustomerSegment\"\n",
    ").show(10)"
   ]
  },
  {
   "cell_type": "code",
   "execution_count": 0,
   "metadata": {
    "application/vnd.databricks.v1+cell": {
     "cellMetadata": {
      "byteLimit": 2048000,
      "rowLimit": 10000
     },
     "inputWidgets": {},
     "nuid": "600a6304-bb4e-4f13-b3ca-12d8aac9da1c",
     "showTitle": true,
     "tableResultSettingsMap": {},
     "title": "Analyze and Save Product Performance in Gold Layer"
    }
   },
   "outputs": [
    {
     "output_type": "stream",
     "name": "stdout",
     "output_type": "stream",
     "text": [
      "=== GOLD LAYER: PRODUCT PERFORMANCE ===\n Product Performance saved to: gold_product_performance\nProducts analyzed: 3,892\nTop 10 Products by Revenue:\n+---------+----------------------------------+------------+-----------------+---------------+\n|StockCode|Description                       |TotalRevenue|TotalQuantitySold|UniqueCustomers|\n+---------+----------------------------------+------------+-----------------+---------------+\n|23843    |PAPER CRAFT , LITTLE BIRDIE       |168469.6    |80995            |1              |\n|22423    |REGENCY CAKESTAND 3 TIER          |141946.0    |12349            |881            |\n|85123A   |WHITE HANGING HEART T-LIGHT HOLDER|100046.95   |36589            |856            |\n|85099B   |JUMBO BAG RED RETROSPOT           |84962.28    |46040            |635            |\n|23166    |MEDIUM CERAMIC TOP STORAGE JAR    |81405.48    |77907            |138            |\n|47566    |PARTY BUNTING                     |68614.98    |15244            |708            |\n|84879    |ASSORTED COLOUR BIRD ORNAMENT     |56191.64    |35132            |678            |\n|23084    |RABBIT NIGHT LIGHT                |51070.28    |27066            |450            |\n|79321    |CHILLI LIGHTS                     |46235.41    |9640             |205            |\n|22086    |PAPER CHAIN KIT 50'S CHRISTMAS    |42268.48    |15484            |613            |\n+---------+----------------------------------+------------+-----------------+---------------+\nonly showing top 10 rows\n"
     ]
    }
   ],
   "source": [
    "# ==========================================\n",
    "# GOLD LAYER - PRODUCT PERFORMANCE ANALYTICS\n",
    "# ==========================================\n",
    "\n",
    "print(\"=== GOLD LAYER: PRODUCT PERFORMANCE ===\")\n",
    "\n",
    "# Analyze product performance metrics focusing on actual products\n",
    "product_performance = silver_df \\\n",
    "    .filter(col(\"ProductCategory\") == \"Product\") \\\n",
    "    .groupBy(\"StockCode\", \"Description\", \"ProductCategory\") \\\n",
    "    .agg(\n",
    "        # Sales volume metrics\n",
    "        sum(\"Quantity\").alias(\"TotalQuantitySold\"),\n",
    "        round(sum(\"TotalPrice\"), 2).alias(\"TotalRevenue\"),\n",
    "        \n",
    "        # Customer engagement metrics\n",
    "        countDistinct(\"CustomerID\").alias(\"UniqueCustomers\"),\n",
    "        countDistinct(\"InvoiceNo\").alias(\"UniqueOrders\"),\n",
    "        count(\"*\").alias(\"TotalTransactions\"),\n",
    "        \n",
    "        # Average performance metrics\n",
    "        round(avg(\"UnitPrice\"), 2).alias(\"AvgUnitPrice\"),\n",
    "        round(avg(\"Quantity\"), 2).alias(\"AvgQuantityPerOrder\"),\n",
    "        round(sum(\"TotalPrice\") / countDistinct(\"InvoiceNo\"), 2).alias(\"AvgRevenuePerOrder\")\n",
    "    )\n",
    "\n",
    "# Define window specifications for global rankings\n",
    "revenue_window = Window.partitionBy(lit(1)).orderBy(col(\"TotalRevenue\").desc())\n",
    "quantity_window = Window.partitionBy(lit(1)).orderBy(col(\"TotalQuantitySold\").desc())\n",
    "popularity_window = Window.partitionBy(lit(1)).orderBy(col(\"UniqueCustomers\").desc())\n",
    "\n",
    "# Add ranking metrics for easy identification of top performers\n",
    "product_performance = product_performance \\\n",
    "    .withColumn(\"RevenueRank\", dense_rank().over(revenue_window)) \\\n",
    "    .withColumn(\"QuantityRank\", dense_rank().over(quantity_window)) \\\n",
    "    .withColumn(\"PopularityRank\", dense_rank().over(popularity_window)) \\\n",
    "    .withColumn(\"created_at\", current_timestamp())\n",
    "\n",
    "# Save product performance analytics\n",
    "product_performance.write \\\n",
    "    .format(\"delta\") \\\n",
    "    .mode(\"overwrite\") \\\n",
    "    .saveAsTable(\"gold_product_performance\")\n",
    "\n",
    "print(\" Product Performance saved to: gold_product_performance\")\n",
    "print(f\"Products analyzed: {product_performance.count():,}\")\n",
    "\n",
    "# Show top performing products\n",
    "print(\"Top 10 Products by Revenue:\")\n",
    "product_performance.select(\n",
    "    \"StockCode\", \"Description\", \"TotalRevenue\", \"TotalQuantitySold\", \"UniqueCustomers\"\n",
    ").orderBy(col(\"TotalRevenue\").desc()).show(10, truncate=False)"
   ]
  },
  {
   "cell_type": "code",
   "execution_count": 0,
   "metadata": {
    "application/vnd.databricks.v1+cell": {
     "cellMetadata": {
      "byteLimit": 2048000,
      "rowLimit": 10000
     },
     "inputWidgets": {},
     "nuid": "d6beb381-8879-4ce3-becb-69e8951e5590",
     "showTitle": true,
     "tableResultSettingsMap": {},
     "title": "Create and Save Sales Time Series in Gold Layer"
    }
   },
   "outputs": [
    {
     "output_type": "stream",
     "name": "stdout",
     "output_type": "stream",
     "text": [
      "=== GOLD LAYER: SALES TIME SERIES ===\n Sales Time Series saved to: gold_sales_timeseries\nMonthly Sales Trends:\n+----+-----+------------------+-------------+\n|Year|Month|    MonthlyRevenue|MonthlyOrders|\n+----+-----+------------------+-------------+\n|2010|   12| 567142.5900000004|         1400|\n|2011|    1| 566102.3400000001|          987|\n|2011|    2|444664.31000000006|          997|\n|2011|    3|         592155.25|         1321|\n|2011|    4|463513.69999999984|         1150|\n|2011|    5| 675938.6000000001|         1555|\n|2011|    6|         656922.54|         1393|\n|2011|    7| 597697.6299999999|         1331|\n|2011|    8|          642425.9|         1280|\n|2011|    9|         947854.95|         1755|\n|2011|   10|1028184.5200000001|         1929|\n|2011|   11|1147053.6399999997|         2657|\n+----+-----+------------------+-------------+\nonly showing top 12 rows\n"
     ]
    }
   ],
   "source": [
    "# ==========================================\n",
    "# GOLD LAYER - TIME SERIES SALES ANALYTICS\n",
    "# ==========================================\n",
    "\n",
    "print(\"=== GOLD LAYER: SALES TIME SERIES ===\")\n",
    "\n",
    "# Create comprehensive time-based sales analytics\n",
    "sales_timeseries = silver_df.groupBy(\"Year\", \"Month\", \"Quarter\", \"DayName\", \"IsWeekend\", \"Hour\") \\\n",
    "    .agg(\n",
    "        # Revenue and volume metrics\n",
    "        round(sum(\"TotalPrice\"), 2).alias(\"TotalRevenue\"),\n",
    "        sum(\"Quantity\").alias(\"TotalQuantity\"),\n",
    "        \n",
    "        # Transaction metrics\n",
    "        countDistinct(\"InvoiceNo\").alias(\"TotalOrders\"),\n",
    "        countDistinct(\"CustomerID\").alias(\"UniqueCustomers\"),\n",
    "        countDistinct(\"StockCode\").alias(\"UniqueProducts\"),\n",
    "        \n",
    "        # Average performance metrics\n",
    "        round(avg(\"TotalPrice\"), 2).alias(\"AvgOrderValue\"),\n",
    "        round(sum(\"TotalPrice\") / countDistinct(\"InvoiceNo\"), 2).alias(\"AvgBasketValue\")\n",
    "    ) \\\n",
    "    .withColumn(\"created_at\", current_timestamp())\n",
    "\n",
    "growth_window = Window.partitionBy(lit(1)).orderBy(\"Year\", \"Month\", \"Quarter\", \"Hour\")\n",
    "sales_timeseries = sales_timeseries.withColumn(\n",
    "    \"RevenueGrowth\", \n",
    "    col(\"TotalRevenue\") - lag(\"TotalRevenue\", 1).over(growth_window)\n",
    ")\n",
    "\n",
    "# Save time series analytics with partitioning for better query performance\n",
    "sales_timeseries.write \\\n",
    "    .format(\"delta\") \\\n",
    "    .mode(\"overwrite\") \\\n",
    "    .partitionBy(\"Year\") \\\n",
    "    .saveAsTable(\"gold_sales_timeseries\")\n",
    "\n",
    "print(\" Sales Time Series saved to: gold_sales_timeseries\")\n",
    "\n",
    "# Show monthly trends\n",
    "print(\"Monthly Sales Trends:\")\n",
    "monthly_summary = sales_timeseries.groupBy(\"Year\", \"Month\") \\\n",
    "    .agg(\n",
    "        sum(\"TotalRevenue\").alias(\"MonthlyRevenue\"),\n",
    "        sum(\"TotalOrders\").alias(\"MonthlyOrders\")\n",
    "    ).orderBy(\"Year\", \"Month\")\n",
    "\n",
    "monthly_summary.show(12)"
   ]
  },
  {
   "cell_type": "code",
   "execution_count": 0,
   "metadata": {
    "application/vnd.databricks.v1+cell": {
     "cellMetadata": {
      "byteLimit": 2048000,
      "rowLimit": 10000
     },
     "inputWidgets": {},
     "nuid": "e2a8f51b-6e08-4006-a613-7c6a343ac9d6",
     "showTitle": true,
     "tableResultSettingsMap": {},
     "title": "Analyze and Save Geographic Performance in Gold Layer"
    }
   },
   "outputs": [
    {
     "output_type": "stream",
     "name": "stdout",
     "output_type": "stream",
     "text": [
      "=== GOLD LAYER: GEOGRAPHIC PERFORMANCE ===\n Geographic Performance saved to: gold_geographic_performance\nTop Countries by Total Revenue:\n+--------------+------------+--------------+\n|       Country|TotalRevenue|TotalCustomers|\n+--------------+------------+--------------+\n|United Kingdom|  7250877.27|         11790|\n|   Netherlands|   285446.34|            33|\n|          EIRE|   265245.96|            29|\n|       Germany|   227618.61|           334|\n|        France|    208820.1|           299|\n|     Australia|   138420.61|            38|\n|         Spain|     61452.2|            77|\n|   Switzerland|    56443.95|            42|\n|       Belgium|    41196.34|            86|\n|        Sweden|    38367.83|            30|\n+--------------+------------+--------------+\nonly showing top 10 rows\n"
     ]
    }
   ],
   "source": [
    "# ==========================================\n",
    "# GOLD LAYER - GEOGRAPHIC PERFORMANCE\n",
    "# ==========================================\n",
    "\n",
    "print(\"=== GOLD LAYER: GEOGRAPHIC PERFORMANCE ===\")\n",
    "\n",
    "# Analyze performance by country and time period\n",
    "geographic_performance = silver_df.groupBy(\"Country\", \"Year\", \"Month\") \\\n",
    "    .agg(\n",
    "        # Financial metrics\n",
    "        round(sum(\"TotalPrice\"), 2).alias(\"TotalRevenue\"),\n",
    "        sum(\"Quantity\").alias(\"TotalQuantity\"),\n",
    "        \n",
    "        # Customer metrics\n",
    "        countDistinct(\"CustomerID\").alias(\"UniqueCustomers\"),\n",
    "        countDistinct(\"InvoiceNo\").alias(\"TotalOrders\"),\n",
    "        countDistinct(\"StockCode\").alias(\"UniqueProducts\"),\n",
    "        round(avg(\"TotalPrice\"), 2).alias(\"AvgOrderValue\")\n",
    "    )\n",
    "\n",
    "# Add country rankings within each time period\n",
    "geographic_performance = geographic_performance \\\n",
    "    .withColumn(\"RevenueRank\", \n",
    "               dense_rank().over(Window.partitionBy(\"Year\", \"Month\").orderBy(col(\"TotalRevenue\").desc()))) \\\n",
    "    .withColumn(\"CustomerRank\", \n",
    "               dense_rank().over(Window.partitionBy(\"Year\", \"Month\").orderBy(col(\"UniqueCustomers\").desc()))) \\\n",
    "    .withColumn(\"created_at\", current_timestamp())\n",
    "\n",
    "# Save geographic performance with partitioning\n",
    "geographic_performance.write \\\n",
    "    .format(\"delta\") \\\n",
    "    .mode(\"overwrite\") \\\n",
    "    .partitionBy(\"Year\") \\\n",
    "    .saveAsTable(\"gold_geographic_performance\")\n",
    "\n",
    "print(\" Geographic Performance saved to: gold_geographic_performance\")\n",
    "\n",
    "# Show top countries by revenue\n",
    "print(\"Top Countries by Total Revenue:\")\n",
    "country_totals = geographic_performance.groupBy(\"Country\") \\\n",
    "    .agg(\n",
    "        round(sum(\"TotalRevenue\"), 2).alias(\"TotalRevenue\"),\n",
    "        sum(\"UniqueCustomers\").alias(\"TotalCustomers\")\n",
    "    ).orderBy(col(\"TotalRevenue\").desc())\n",
    "\n",
    "country_totals.show(10)"
   ]
  },
  {
   "cell_type": "code",
   "execution_count": 0,
   "metadata": {
    "application/vnd.databricks.v1+cell": {
     "cellMetadata": {
      "byteLimit": 2048000,
      "rowLimit": 10000
     },
     "inputWidgets": {},
     "nuid": "bf4bc648-cfe6-4b57-b389-0bd3c00dbed5",
     "showTitle": true,
     "tableResultSettingsMap": {},
     "title": "Aggregate and Save Daily Business Metrics in Gold Layer"
    }
   },
   "outputs": [
    {
     "output_type": "stream",
     "name": "stdout",
     "output_type": "stream",
     "text": [
      "=== GOLD LAYER: DAILY BUSINESS METRICS ===\n Daily Metrics saved to: gold_daily_metrics\nDaily records created: 305\nRecent Daily Performance (Last 10 Days):\n+----------+------------+-----------+--------------+--------------+\n|      Date|DailyRevenue|DailyOrders|DailyCustomers|MovingAvg7Days|\n+----------+------------+-----------+--------------+--------------+\n|2011-12-09|   184287.47|         41|            35|      67301.59|\n|2011-12-08|    50140.12|        113|           105|      47260.44|\n|2011-12-07|    68946.77|        104|            94|      46000.03|\n|2011-12-06|    45694.26|        110|           103|      43076.88|\n|2011-12-05|     57811.1|        116|           105|      43840.96|\n|2011-12-04|    19901.67|         62|            58|      37957.23|\n|2011-12-02|    44329.71|        114|            95|      38866.63|\n|2011-12-01|    43999.43|        118|           111|      37978.94|\n|2011-11-30|    41317.24|         99|            92|      41912.79|\n|2011-11-29|    48484.72|        126|           109|      43005.36|\n+----------+------------+-----------+--------------+--------------+\nonly showing top 10 rows\n"
     ]
    }
   ],
   "source": [
    "# ==========================================\n",
    "# GOLD LAYER - DAILY BUSINESS METRICS\n",
    "# ==========================================\n",
    "\n",
    "print(\"=== GOLD LAYER: DAILY BUSINESS METRICS ===\")\n",
    "\n",
    "# Create daily aggregated metrics for operational dashboards\n",
    "daily_metrics = silver_df.groupBy(to_date(\"InvoiceDate\").alias(\"Date\")) \\\n",
    "    .agg(\n",
    "        # Daily performance metrics\n",
    "        round(sum(\"TotalPrice\"), 2).alias(\"DailyRevenue\"),\n",
    "        sum(\"Quantity\").alias(\"DailyQuantity\"),\n",
    "        countDistinct(\"InvoiceNo\").alias(\"DailyOrders\"),\n",
    "        countDistinct(\"CustomerID\").alias(\"DailyCustomers\"),\n",
    "        countDistinct(\"StockCode\").alias(\"DailyProducts\"),\n",
    "        \n",
    "        # Daily averages\n",
    "        round(avg(\"TotalPrice\"), 2).alias(\"AvgOrderValue\"),\n",
    "        round(sum(\"TotalPrice\") / countDistinct(\"CustomerID\"), 2).alias(\"RevenuePerCustomer\")\n",
    "    )\n",
    "\n",
    "# Add time dimensions for analysis\n",
    "daily_metrics = daily_metrics \\\n",
    "    .withColumn(\"Year\", year(\"Date\")) \\\n",
    "    .withColumn(\"Month\", month(\"Date\")) \\\n",
    "    .withColumn(\"DayOfWeek\", dayofweek(\"Date\")) \\\n",
    "    .withColumn(\"IsWeekend\", when(col(\"DayOfWeek\").isin([1, 7]), 1).otherwise(0))\n",
    "\n",
    "# Calculate moving averages for trend analysis\n",
    "daily_window_7 = Window.partitionBy(lit(1)).orderBy(\"Date\").rowsBetween(-6, 0)\n",
    "daily_window_30 = Window.partitionBy(lit(1)).orderBy(\"Date\").rowsBetween(-29, 0)\n",
    "\n",
    "daily_metrics = daily_metrics \\\n",
    "    .withColumn(\"MovingAvg7Days\", round(avg(\"DailyRevenue\").over(daily_window_7), 2)) \\\n",
    "    .withColumn(\"MovingAvg30Days\", round(avg(\"DailyRevenue\").over(daily_window_30), 2)) \\\n",
    "    .withColumn(\"created_at\", current_timestamp())\n",
    "\n",
    "# Save daily metrics with partitioning for efficient queries\n",
    "daily_metrics.write \\\n",
    "    .format(\"delta\") \\\n",
    "    .mode(\"overwrite\") \\\n",
    "    .partitionBy(\"Year\", \"Month\") \\\n",
    "    .saveAsTable(\"gold_daily_metrics\")\n",
    "\n",
    "print(\" Daily Metrics saved to: gold_daily_metrics\")\n",
    "print(f\"Daily records created: {daily_metrics.count():,}\")\n",
    "\n",
    "# Show recent daily performance\n",
    "print(\"Recent Daily Performance (Last 10 Days):\")\n",
    "daily_metrics.select(\n",
    "    \"Date\", \"DailyRevenue\", \"DailyOrders\", \"DailyCustomers\", \"MovingAvg7Days\"\n",
    ").orderBy(col(\"Date\").desc()).show(10)"
   ]
  },
  {
   "cell_type": "code",
   "execution_count": 0,
   "metadata": {
    "application/vnd.databricks.v1+cell": {
     "cellMetadata": {
      "byteLimit": 2048000,
      "rowLimit": 10000
     },
     "inputWidgets": {},
     "nuid": "9bad45a8-6230-4a62-83eb-ef461a94a4b8",
     "showTitle": true,
     "tableResultSettingsMap": {},
     "title": "Summarize Business Insights and Segmentation Analysis"
    }
   },
   "outputs": [
    {
     "output_type": "stream",
     "name": "stdout",
     "output_type": "stream",
     "text": [
      "=== COMPREHENSIVE BUSINESS INSIGHTS ===\nExecutive Summary:\n+------------+--------------+----------------+--------------------+------------------------+\n|TotalRevenue|TotalCustomers|AvgCustomerValue|AvgPurchaseFrequency|AvgDaysSinceLastPurchase|\n+------------+--------------+----------------+--------------------+------------------------+\n|   8844766.5|          4346|         2035.15|                 4.3|                    92.3|\n+------------+--------------+----------------+--------------------+------------------------+\n\nCustomer Segmentation Analysis:\n+-------------------+-------------+-----------+------------+----------+------------+------------+\n|    CustomerSegment|CustomerCount|AvgSpending|AvgFrequency|AvgRecency|TotalRevenue|RevenueShare|\n+-------------------+-------------+-----------+------------+----------+------------+------------+\n|      New_Customers|         1091|    5726.64|        10.7|      21.1|  6247758.81|       70.64|\n|             Others|          919|    1318.63|         3.2|      62.8|  1211822.19|        13.7|\n|        Cannot_Lose|          238|    1595.64|         3.7|     165.1|   379761.93|        4.29|\n|     Need_Attention|          387|     821.11|         2.1|     111.1|   317767.97|        3.59|\n|Potential_Loyalists|           81|    3080.88|         1.8|      16.4|   249550.99|        2.82|\n|            At_Risk|          630|     232.36|         1.2|     275.2|   146386.76|        1.66|\n|    Loyal_Customers|          444|     310.36|         1.2|      42.3|   137798.78|        1.56|\n|          Promising|          412|     311.45|         1.7|     102.3|   128315.75|        1.45|\n|          Champions|          144|      177.8|         1.0|      16.3|    25603.32|        0.29|\n+-------------------+-------------+-----------+------------+----------+------------+------------+\n\n"
     ]
    }
   ],
   "source": [
    "# ==========================================\n",
    "# BUSINESS INSIGHTS SUMMARY\n",
    "# ==========================================\n",
    "\n",
    "print(\"=== COMPREHENSIVE BUSINESS INSIGHTS ===\")\n",
    "\n",
    "# Executive summary metrics\n",
    "exec_summary = spark.sql(\"\"\"\n",
    "    SELECT \n",
    "        ROUND(SUM(Monetary), 2) as TotalRevenue,\n",
    "        COUNT(*) as TotalCustomers,\n",
    "        ROUND(AVG(Monetary), 2) as AvgCustomerValue,\n",
    "        ROUND(AVG(Frequency), 1) as AvgPurchaseFrequency,\n",
    "        ROUND(AVG(Recency), 1) as AvgDaysSinceLastPurchase\n",
    "    FROM gold_customer_analytics\n",
    "\"\"\")\n",
    "\n",
    "print(\"Executive Summary:\")\n",
    "exec_summary.show()\n",
    "\n",
    "# Customer segmentation business insights\n",
    "segment_insights = spark.sql(\"\"\"\n",
    "    SELECT \n",
    "        CustomerSegment,\n",
    "        COUNT(*) as CustomerCount,\n",
    "        ROUND(AVG(Monetary), 2) as AvgSpending,\n",
    "        ROUND(AVG(Frequency), 1) as AvgFrequency,\n",
    "        ROUND(AVG(Recency), 1) as AvgRecency,\n",
    "        ROUND(SUM(Monetary), 2) as TotalRevenue,\n",
    "        ROUND(SUM(Monetary) * 100.0 / (SELECT SUM(Monetary) FROM gold_customer_analytics), 2) as RevenueShare\n",
    "    FROM gold_customer_analytics\n",
    "    GROUP BY CustomerSegment\n",
    "    ORDER BY TotalRevenue DESC\n",
    "\"\"\")\n",
    "\n",
    "print(\"Customer Segmentation Analysis:\")\n",
    "segment_insights.show()"
   ]
  },
  {
   "cell_type": "code",
   "execution_count": 0,
   "metadata": {
    "application/vnd.databricks.v1+cell": {
     "cellMetadata": {
      "byteLimit": 2048000,
      "rowLimit": 10000
     },
     "inputWidgets": {},
     "nuid": "0d9bf644-5e52-4326-8182-3a2cf7e4293c",
     "showTitle": false,
     "tableResultSettingsMap": {},
     "title": ""
    }
   },
   "outputs": [
    {
     "output_type": "stream",
     "name": "stdout",
     "output_type": "stream",
     "text": [
      "=== DATA PIPELINE COMPLETED SUCCESSFULLY ===\nGold Tables Created:\n   • gold_customer_analytics - RFM analysis and customer segmentation\n   • gold_product_performance - Product sales and popularity metrics\n   • gold_sales_timeseries - Time-based sales analysis\n   • gold_geographic_performance - Country-wise performance\n   • gold_daily_metrics - Daily operational KPIs\n"
     ]
    }
   ],
   "source": [
    "print(\"=== DATA PIPELINE COMPLETED SUCCESSFULLY ===\")\n",
    "print(\"Gold Tables Created:\")\n",
    "print(\"   • gold_customer_analytics - RFM analysis and customer segmentation\")\n",
    "print(\"   • gold_product_performance - Product sales and popularity metrics\") \n",
    "print(\"   • gold_sales_timeseries - Time-based sales analysis\")\n",
    "print(\"   • gold_geographic_performance - Country-wise performance\")\n",
    "print(\"   • gold_daily_metrics - Daily operational KPIs\")"
   ]
  },
  {
   "cell_type": "markdown",
   "metadata": {
    "application/vnd.databricks.v1+cell": {
     "cellMetadata": {
      "byteLimit": 2048000,
      "rowLimit": 10000
     },
     "inputWidgets": {},
     "nuid": "d7494799-8290-41d5-a17d-92890ef84259",
     "showTitle": false,
     "tableResultSettingsMap": {},
     "title": ""
    }
   },
   "source": [
    "<h2 style=\"text-align: center;\">Visualizations</h2>"
   ]
  },
  {
   "cell_type": "code",
   "execution_count": 0,
   "metadata": {
    "application/vnd.databricks.v1+cell": {
     "cellMetadata": {
      "byteLimit": 2048000,
      "rowLimit": 10000
     },
     "inputWidgets": {},
     "nuid": "6a30d26f-5e86-43e8-af9b-ead1993d11cf",
     "showTitle": true,
     "tableResultSettingsMap": {},
     "title": "Customer Segment Count and Revenue Analysis"
    }
   },
   "outputs": [
    {
     "output_type": "stream",
     "name": "stdout",
     "output_type": "stream",
     "text": [
      "Customer Segment Distribution:\n"
     ]
    },
    {
     "output_type": "display_data",
     "data": {
      "text/html": [
       "<style scoped>\n",
       "  .table-result-container {\n",
       "    max-height: 300px;\n",
       "    overflow: auto;\n",
       "  }\n",
       "  table, th, td {\n",
       "    border: 1px solid black;\n",
       "    border-collapse: collapse;\n",
       "  }\n",
       "  th, td {\n",
       "    padding: 5px;\n",
       "  }\n",
       "  th {\n",
       "    text-align: left;\n",
       "  }\n",
       "</style><div class='table-result-container'><table class='table-result'><thead style='background-color: white'><tr><th>CustomerSegment</th><th>CustomerCount</th><th>TotalRevenue</th></tr></thead><tbody><tr><td>New_Customers</td><td>1091</td><td>6247758.81</td></tr><tr><td>Others</td><td>919</td><td>1211822.19</td></tr><tr><td>At_Risk</td><td>630</td><td>146386.76</td></tr><tr><td>Loyal_Customers</td><td>444</td><td>137798.78</td></tr><tr><td>Promising</td><td>412</td><td>128315.75</td></tr><tr><td>Need_Attention</td><td>387</td><td>317767.97</td></tr><tr><td>Cannot_Lose</td><td>238</td><td>379761.93</td></tr><tr><td>Champions</td><td>144</td><td>25603.32</td></tr><tr><td>Potential_Loyalists</td><td>81</td><td>249550.99</td></tr></tbody></table></div>"
      ]
     },
     "metadata": {
      "application/vnd.databricks.v1+output": {
       "addedWidgets": {},
       "aggData": [],
       "aggError": "",
       "aggOverflow": false,
       "aggSchema": [],
       "aggSeriesLimitReached": false,
       "aggType": "",
       "arguments": {},
       "columnCustomDisplayInfos": {},
       "data": [
        [
         "New_Customers",
         1091,
         6247758.81
        ],
        [
         "Others",
         919,
         1211822.19
        ],
        [
         "At_Risk",
         630,
         146386.76
        ],
        [
         "Loyal_Customers",
         444,
         137798.78
        ],
        [
         "Promising",
         412,
         128315.75
        ],
        [
         "Need_Attention",
         387,
         317767.97
        ],
        [
         "Cannot_Lose",
         238,
         379761.93
        ],
        [
         "Champions",
         144,
         25603.32
        ],
        [
         "Potential_Loyalists",
         81,
         249550.99
        ]
       ],
       "datasetInfos": [],
       "dbfsResultPath": null,
       "isJsonSchema": true,
       "metadata": {},
       "overflow": false,
       "plotOptions": {
        "customPlotOptions": {},
        "displayType": "table",
        "pivotAggregation": null,
        "pivotColumns": null,
        "xColumns": null,
        "yColumns": null
       },
       "removedWidgets": [],
       "schema": [
        {
         "metadata": "{}",
         "name": "CustomerSegment",
         "type": "\"string\""
        },
        {
         "metadata": "{}",
         "name": "CustomerCount",
         "type": "\"long\""
        },
        {
         "metadata": "{}",
         "name": "TotalRevenue",
         "type": "\"double\""
        }
       ],
       "type": "table"
      }
     },
     "output_type": "display_data"
    },
    {
     "output_type": "display_data",
     "data": {
      "text/plain": [
       "Databricks visualization. Run in Databricks to view."
      ]
     },
     "metadata": {
      "application/vnd.databricks.v1.subcommand+json": {
       "baseErrorDetails": null,
       "bindings": {},
       "collapsed": false,
       "command": "%python\n__backend_agg_display_orig = display\n__backend_agg_dfs = []\ndef __backend_agg_display_new(df):\n    __backend_agg_df_modules = [\"pandas.core.frame\", \"databricks.koalas.frame\", \"pyspark.sql.dataframe\", \"pyspark.pandas.frame\", \"pyspark.sql.connect.dataframe\"]\n    if (type(df).__module__ in __backend_agg_df_modules and type(df).__name__ == 'DataFrame') or isinstance(df, list):\n        __backend_agg_dfs.append(df)\n\ndisplay = __backend_agg_display_new\n\ndef __backend_agg_user_code_fn():\n    import base64\n    exec(base64.standard_b64decode(\"IyBDdXN0b21lciBzZWdtZW50IGRpc3RyaWJ1dGlvbgpjdXN0b21lcl9zZWdtZW50c192aXogPSBzcGFyay5zcWwoIiIiCiAgICBTRUxFQ1QgCiAgICAgICAgQ3VzdG9tZXJTZWdtZW50LCAKICAgICAgICBDT1VOVCgqKSBhcyBDdXN0b21lckNvdW50LAogICAgICAgIFJPVU5EKFNVTShNb25ldGFyeSksIDIpIGFzIFRvdGFsUmV2ZW51ZQogICAgRlJPTSBnb2xkX2N1c3RvbWVyX2FuYWx5dGljcwogICAgR1JPVVAgQlkgQ3VzdG9tZXJTZWdtZW50CiAgICBPUkRFUiBCWSBDdXN0b21lckNvdW50IERFU0MKIiIiKS50b1BhbmRhcygpCgpwcmludCgiQ3VzdG9tZXIgU2VnbWVudCBEaXN0cmlidXRpb246IikKZGlzcGxheShjdXN0b21lcl9zZWdtZW50c192aXop\").decode())\n\ntry:\n    # run user code\n    __backend_agg_user_code_fn()\n\n    #reset display function\n    display = __backend_agg_display_orig\n\n    if len(__backend_agg_dfs) > 0:\n        # create a temp view\n        if type(__backend_agg_dfs[0]).__module__ == \"databricks.koalas.frame\":\n            # koalas dataframe\n            __backend_agg_dfs[0].to_spark().createOrReplaceTempView(\"DatabricksView9b9a398\")\n        elif type(__backend_agg_dfs[0]).__module__ == \"pandas.core.frame\" or isinstance(__backend_agg_dfs[0], list):\n            # pandas dataframe\n            spark.createDataFrame(__backend_agg_dfs[0]).createOrReplaceTempView(\"DatabricksView9b9a398\")\n        else:\n            __backend_agg_dfs[0].createOrReplaceTempView(\"DatabricksView9b9a398\")\n        #run backend agg\n        display(spark.sql(\"\"\"WITH q AS (select * from DatabricksView9b9a398) SELECT `CustomerSegment`,SUM(`TotalRevenue`) `column_663318f9359` FROM q GROUP BY `CustomerSegment`\"\"\"))\n    else:\n        displayHTML(\"dataframe no longer exists. If you're using dataframe.display(), use display(dataframe) instead.\")\n\n\nfinally:\n    spark.sql(\"drop view if exists DatabricksView9b9a398\")\n    display = __backend_agg_display_orig\n    del __backend_agg_display_new\n    del __backend_agg_display_orig\n    del __backend_agg_dfs\n    del __backend_agg_user_code_fn\n\n",
       "commandTitle": "Revenue By Customer Segment",
       "commandType": "auto",
       "commandVersion": 0,
       "commentThread": [],
       "commentsVisible": false,
       "contentSha256Hex": null,
       "customPlotOptions": {
        "redashChart": [
         {
          "key": "type",
          "value": "CHART"
         },
         {
          "key": "options",
          "value": {
           "alignYAxesAtZero": true,
           "coefficient": 1,
           "columnConfigurationMap": {
            "x": {
             "column": "CustomerSegment",
             "id": "column_663318f9364"
            },
            "y": [
             {
              "column": "TotalRevenue",
              "id": "column_663318f9359",
              "transform": "SUM"
             }
            ]
           },
           "dateTimeFormat": "DD/MM/YYYY HH:mm",
           "direction": {
            "type": "counterclockwise"
           },
           "error_y": {
            "type": "data",
            "visible": true
           },
           "globalSeriesType": "pie",
           "isAggregationOn": true,
           "legend": {
            "traceorder": "normal"
           },
           "missingValuesAsZero": true,
           "numberFormat": "0,0.[00000]",
           "percentFormat": "0[.]00%",
           "series": {
            "error_y": {
             "type": "data",
             "visible": true
            },
            "stacking": null
           },
           "seriesOptions": {
            "column_663318f9359": {
             "name": "Revenue By Customer Segment",
             "type": "pie",
             "yAxis": 0
            }
           },
           "showDataLabels": true,
           "sizemode": "diameter",
           "sortX": true,
           "sortY": true,
           "swappedAxes": false,
           "textFormat": "",
           "useAggregationsUi": true,
           "valuesOptions": {},
           "version": 2,
           "xAxis": {
            "labels": {
             "enabled": true
            },
            "type": "-"
           },
           "yAxis": [
            {
             "type": "-"
            },
            {
             "opposite": true,
             "type": "-"
            }
           ]
          }
         }
        ]
       },
       "datasetPreviewNameToCmdIdMap": {},
       "diffDeletes": [],
       "diffInserts": [],
       "displayType": "redashChart",
       "error": null,
       "errorDetails": null,
       "errorSummary": null,
       "errorTraceType": null,
       "finishTime": 0,
       "globalVars": {},
       "guid": "",
       "height": "auto",
       "hideCommandCode": false,
       "hideCommandResult": false,
       "iPythonMetadata": null,
       "inputWidgets": {},
       "isLockedInExamMode": false,
       "latestAssumeRoleInfo": null,
       "latestUser": "a user",
       "latestUserId": null,
       "listResultMetadata": null,
       "metadata": {
        "byteLimit": 2048000,
        "rowLimit": 10000
       },
       "nuid": "a7c359b6-5053-4570-93e6-3db0ecfbd3bf",
       "origId": 0,
       "parentHierarchy": [],
       "pivotAggregation": null,
       "pivotColumns": null,
       "position": 18.625,
       "resultDbfsErrorMessage": null,
       "resultDbfsStatus": "INLINED_IN_TREE",
       "results": null,
       "showCommandTitle": false,
       "startTime": 0,
       "state": "finished",
       "streamStates": {},
       "subcommandOptions": {
        "queryPlan": {
         "groups": [
          {
           "column": "CustomerSegment",
           "type": "column"
          }
         ],
         "selects": [
          {
           "column": "CustomerSegment",
           "type": "column"
          },
          {
           "alias": "column_663318f9359",
           "args": [
            {
             "column": "TotalRevenue",
             "type": "column"
            }
           ],
           "function": "SUM",
           "type": "function"
          }
         ]
        }
       },
       "submitTime": 0,
       "subtype": "tableResultSubCmd.visualization",
       "tableResultIndex": 0,
       "tableResultSettingsMap": {},
       "useConsistentColors": false,
       "version": "CommandV1",
       "width": "auto",
       "workflows": [],
       "xColumns": null,
       "yColumns": null
      }
     },
     "output_type": "display_data"
    }
   ],
   "source": [
    "# Customer segment distribution\n",
    "customer_segments_viz = spark.sql(\"\"\"\n",
    "    SELECT \n",
    "        CustomerSegment, \n",
    "        COUNT(*) as CustomerCount,\n",
    "        ROUND(SUM(Monetary), 2) as TotalRevenue\n",
    "    FROM gold_customer_analytics\n",
    "    GROUP BY CustomerSegment\n",
    "    ORDER BY CustomerCount DESC\n",
    "\"\"\").toPandas()\n",
    "\n",
    "print(\"Customer Segment Distribution:\")\n",
    "display(customer_segments_viz)"
   ]
  },
  {
   "cell_type": "code",
   "execution_count": 0,
   "metadata": {
    "application/vnd.databricks.v1+cell": {
     "cellMetadata": {
      "byteLimit": 2048000,
      "rowLimit": 10000
     },
     "inputWidgets": {},
     "nuid": "e4c80cda-9b01-429a-98d5-e82bfc1aef46",
     "showTitle": true,
     "tableResultSettingsMap": {},
     "title": "Monthly Revenue and Order Trends"
    }
   },
   "outputs": [
    {
     "output_type": "stream",
     "name": "stdout",
     "output_type": "stream",
     "text": [
      "Monthly Revenue Trends:\n"
     ]
    },
    {
     "output_type": "display_data",
     "data": {
      "text/html": [
       "<style scoped>\n",
       "  .table-result-container {\n",
       "    max-height: 300px;\n",
       "    overflow: auto;\n",
       "  }\n",
       "  table, th, td {\n",
       "    border: 1px solid black;\n",
       "    border-collapse: collapse;\n",
       "  }\n",
       "  th, td {\n",
       "    padding: 5px;\n",
       "  }\n",
       "  th {\n",
       "    text-align: left;\n",
       "  }\n",
       "</style><div class='table-result-container'><table class='table-result'><thead style='background-color: white'><tr><th>YearMonth</th><th>MonthlyRevenue</th><th>MonthlyOrders</th></tr></thead><tbody><tr><td>2010-12</td><td>567142.5900000001</td><td>1400</td></tr><tr><td>2011-01</td><td>566102.3399999999</td><td>987</td></tr><tr><td>2011-02</td><td>444664.31</td><td>997</td></tr><tr><td>2011-03</td><td>592155.2499999999</td><td>1321</td></tr><tr><td>2011-04</td><td>463513.7</td><td>1150</td></tr><tr><td>2011-05</td><td>675938.6000000002</td><td>1555</td></tr><tr><td>2011-06</td><td>656922.5400000003</td><td>1393</td></tr><tr><td>2011-07</td><td>597697.63</td><td>1331</td></tr><tr><td>2011-08</td><td>642425.9</td><td>1280</td></tr><tr><td>2011-09</td><td>947854.9500000001</td><td>1755</td></tr><tr><td>2011-10</td><td>1028184.5199999998</td><td>1929</td></tr><tr><td>2011-11</td><td>1147053.6400000004</td><td>2657</td></tr><tr><td>2011-12</td><td>515110.5299999999</td><td>778</td></tr></tbody></table></div>"
      ]
     },
     "metadata": {
      "application/vnd.databricks.v1+output": {
       "addedWidgets": {},
       "aggData": [],
       "aggError": "",
       "aggOverflow": false,
       "aggSchema": [],
       "aggSeriesLimitReached": false,
       "aggType": "",
       "arguments": {},
       "columnCustomDisplayInfos": {},
       "data": [
        [
         "2010-12",
         567142.5900000001,
         1400
        ],
        [
         "2011-01",
         566102.3399999999,
         987
        ],
        [
         "2011-02",
         444664.31,
         997
        ],
        [
         "2011-03",
         592155.2499999999,
         1321
        ],
        [
         "2011-04",
         463513.7,
         1150
        ],
        [
         "2011-05",
         675938.6000000002,
         1555
        ],
        [
         "2011-06",
         656922.5400000003,
         1393
        ],
        [
         "2011-07",
         597697.63,
         1331
        ],
        [
         "2011-08",
         642425.9,
         1280
        ],
        [
         "2011-09",
         947854.9500000001,
         1755
        ],
        [
         "2011-10",
         1028184.5199999998,
         1929
        ],
        [
         "2011-11",
         1147053.6400000004,
         2657
        ],
        [
         "2011-12",
         515110.5299999999,
         778
        ]
       ],
       "datasetInfos": [],
       "dbfsResultPath": null,
       "isJsonSchema": true,
       "metadata": {},
       "overflow": false,
       "plotOptions": {
        "customPlotOptions": {},
        "displayType": "table",
        "pivotAggregation": null,
        "pivotColumns": null,
        "xColumns": null,
        "yColumns": null
       },
       "removedWidgets": [],
       "schema": [
        {
         "metadata": "{}",
         "name": "YearMonth",
         "type": "\"string\""
        },
        {
         "metadata": "{}",
         "name": "MonthlyRevenue",
         "type": "\"double\""
        },
        {
         "metadata": "{}",
         "name": "MonthlyOrders",
         "type": "\"long\""
        }
       ],
       "type": "table"
      }
     },
     "output_type": "display_data"
    },
    {
     "output_type": "display_data",
     "data": {
      "text/plain": [
       "Databricks visualization. Run in Databricks to view."
      ]
     },
     "metadata": {
      "application/vnd.databricks.v1.subcommand+json": {
       "baseErrorDetails": null,
       "bindings": {},
       "collapsed": false,
       "command": "%python\n__backend_agg_display_orig = display\n__backend_agg_dfs = []\ndef __backend_agg_display_new(df):\n    __backend_agg_df_modules = [\"pandas.core.frame\", \"databricks.koalas.frame\", \"pyspark.sql.dataframe\", \"pyspark.pandas.frame\", \"pyspark.sql.connect.dataframe\"]\n    if (type(df).__module__ in __backend_agg_df_modules and type(df).__name__ == 'DataFrame') or isinstance(df, list):\n        __backend_agg_dfs.append(df)\n\ndisplay = __backend_agg_display_new\n\ndef __backend_agg_user_code_fn():\n    import base64\n    exec(base64.standard_b64decode(\"IyBNb250aGx5IHJldmVudWUgYW5kIG9yZGVyIHRyZW5kcwptb250aGx5X3RyZW5kc192aXogPSBzcGFyay5zcWwoIiIiCiAgICBTRUxFQ1QgCiAgICAgICAgQ09OQ0FUKFllYXIsICctJywgTFBBRChNb250aCwgMiwgJzAnKSkgYXMgWWVhck1vbnRoLAogICAgICAgIFNVTShUb3RhbFJldmVudWUpIGFzIE1vbnRobHlSZXZlbnVlLAogICAgICAgIFNVTShUb3RhbE9yZGVycykgYXMgTW9udGhseU9yZGVycwogICAgRlJPTSBnb2xkX3NhbGVzX3RpbWVzZXJpZXMKICAgIEdST1VQIEJZIFllYXIsIE1vbnRoCiAgICBPUkRFUiBCWSBZZWFyLCBNb250aAoiIiIpLnRvUGFuZGFzKCkKCnByaW50KCJNb250aGx5IFJldmVudWUgVHJlbmRzOiIpCmRpc3BsYXkobW9udGhseV90cmVuZHNfdml6KQ==\").decode())\n\ntry:\n    # run user code\n    __backend_agg_user_code_fn()\n\n    #reset display function\n    display = __backend_agg_display_orig\n\n    if len(__backend_agg_dfs) > 0:\n        # create a temp view\n        if type(__backend_agg_dfs[0]).__module__ == \"databricks.koalas.frame\":\n            # koalas dataframe\n            __backend_agg_dfs[0].to_spark().createOrReplaceTempView(\"DatabricksView1f1c46d\")\n        elif type(__backend_agg_dfs[0]).__module__ == \"pandas.core.frame\" or isinstance(__backend_agg_dfs[0], list):\n            # pandas dataframe\n            spark.createDataFrame(__backend_agg_dfs[0]).createOrReplaceTempView(\"DatabricksView1f1c46d\")\n        else:\n            __backend_agg_dfs[0].createOrReplaceTempView(\"DatabricksView1f1c46d\")\n        #run backend agg\n        display(spark.sql(\"\"\"WITH q AS (select * from DatabricksView1f1c46d) SELECT `YearMonth`,SUM(`MonthlyRevenue`) `column_663318f9351` FROM q GROUP BY `YearMonth`\"\"\"))\n    else:\n        displayHTML(\"dataframe no longer exists. If you're using dataframe.display(), use display(dataframe) instead.\")\n\n\nfinally:\n    spark.sql(\"drop view if exists DatabricksView1f1c46d\")\n    display = __backend_agg_display_orig\n    del __backend_agg_display_new\n    del __backend_agg_display_orig\n    del __backend_agg_dfs\n    del __backend_agg_user_code_fn\n\n",
       "commandTitle": "Monthly Revenue",
       "commandType": "auto",
       "commandVersion": 0,
       "commentThread": [],
       "commentsVisible": false,
       "contentSha256Hex": null,
       "customPlotOptions": {
        "redashChart": [
         {
          "key": "type",
          "value": "CHART"
         },
         {
          "key": "options",
          "value": {
           "alignYAxesAtZero": true,
           "coefficient": 1,
           "columnConfigurationMap": {
            "x": {
             "column": "YearMonth",
             "id": "column_663318f9354"
            },
            "y": [
             {
              "column": "MonthlyRevenue",
              "id": "column_663318f9351",
              "transform": "SUM"
             }
            ]
           },
           "dateTimeFormat": "DD/MM/YYYY HH:mm",
           "direction": {
            "type": "counterclockwise"
           },
           "error_y": {
            "type": "data",
            "visible": true
           },
           "globalSeriesType": "line",
           "isAggregationOn": true,
           "legend": {
            "traceorder": "normal"
           },
           "missingValuesAsZero": true,
           "numberFormat": "0,0.[00000]",
           "percentFormat": "0[.]00%",
           "series": {
            "error_y": {
             "type": "data",
             "visible": true
            },
            "stacking": null
           },
           "seriesOptions": {
            "column_663318f9351": {
             "color": "#00A972",
             "name": "Monthly Revenue",
             "type": "line",
             "yAxis": 0
            }
           },
           "showDataLabels": false,
           "sizemode": "diameter",
           "sortX": false,
           "sortY": true,
           "swappedAxes": false,
           "textFormat": "",
           "useAggregationsUi": true,
           "valuesOptions": {},
           "version": 2,
           "xAxis": {
            "labels": {
             "enabled": true
            },
            "title": {
             "text": "Month"
            },
            "type": "-"
           },
           "yAxis": [
            {
             "type": "-"
            },
            {
             "opposite": true,
             "type": "-"
            }
           ]
          }
         }
        ]
       },
       "datasetPreviewNameToCmdIdMap": {},
       "diffDeletes": [],
       "diffInserts": [],
       "displayType": "redashChart",
       "error": null,
       "errorDetails": null,
       "errorSummary": null,
       "errorTraceType": null,
       "finishTime": 0,
       "globalVars": {},
       "guid": "",
       "height": "auto",
       "hideCommandCode": false,
       "hideCommandResult": false,
       "iPythonMetadata": null,
       "inputWidgets": {},
       "isLockedInExamMode": false,
       "latestAssumeRoleInfo": null,
       "latestUser": "a user",
       "latestUserId": null,
       "listResultMetadata": null,
       "metadata": {
        "byteLimit": 2048000,
        "rowLimit": 10000
       },
       "nuid": "a271b3b5-f3f7-4e04-98ba-a7558e59c4d0",
       "origId": 0,
       "parentHierarchy": [],
       "pivotAggregation": null,
       "pivotColumns": null,
       "position": 0.5,
       "resultDbfsErrorMessage": null,
       "resultDbfsStatus": "INLINED_IN_TREE",
       "results": null,
       "showCommandTitle": false,
       "startTime": 0,
       "state": "finished",
       "streamStates": {},
       "subcommandOptions": {
        "queryPlan": {
         "groups": [
          {
           "column": "YearMonth",
           "type": "column"
          }
         ],
         "selects": [
          {
           "column": "YearMonth",
           "type": "column"
          },
          {
           "alias": "column_663318f9351",
           "args": [
            {
             "column": "MonthlyRevenue",
             "type": "column"
            }
           ],
           "function": "SUM",
           "type": "function"
          }
         ]
        }
       },
       "submitTime": 0,
       "subtype": "tableResultSubCmd.visualization",
       "tableResultIndex": 0,
       "tableResultSettingsMap": {},
       "useConsistentColors": false,
       "version": "CommandV1",
       "width": "auto",
       "workflows": [],
       "xColumns": null,
       "yColumns": null
      }
     },
     "output_type": "display_data"
    },
    {
     "output_type": "display_data",
     "data": {
      "text/plain": [
       "Databricks visualization. Run in Databricks to view."
      ]
     },
     "metadata": {
      "application/vnd.databricks.v1.subcommand+json": {
       "baseErrorDetails": null,
       "bindings": {},
       "collapsed": false,
       "command": "%python\n__backend_agg_display_orig = display\n__backend_agg_dfs = []\ndef __backend_agg_display_new(df):\n    __backend_agg_df_modules = [\"pandas.core.frame\", \"databricks.koalas.frame\", \"pyspark.sql.dataframe\", \"pyspark.pandas.frame\", \"pyspark.sql.connect.dataframe\"]\n    if (type(df).__module__ in __backend_agg_df_modules and type(df).__name__ == 'DataFrame') or isinstance(df, list):\n        __backend_agg_dfs.append(df)\n\ndisplay = __backend_agg_display_new\n\ndef __backend_agg_user_code_fn():\n    import base64\n    exec(base64.standard_b64decode(\"IyBNb250aGx5IHJldmVudWUgYW5kIG9yZGVyIHRyZW5kcwptb250aGx5X3RyZW5kc192aXogPSBzcGFyay5zcWwoIiIiCiAgICBTRUxFQ1QgCiAgICAgICAgQ09OQ0FUKFllYXIsICctJywgTFBBRChNb250aCwgMiwgJzAnKSkgYXMgWWVhck1vbnRoLAogICAgICAgIFNVTShUb3RhbFJldmVudWUpIGFzIE1vbnRobHlSZXZlbnVlLAogICAgICAgIFNVTShUb3RhbE9yZGVycykgYXMgTW9udGhseU9yZGVycwogICAgRlJPTSBnb2xkX3NhbGVzX3RpbWVzZXJpZXMKICAgIEdST1VQIEJZIFllYXIsIE1vbnRoCiAgICBPUkRFUiBCWSBZZWFyLCBNb250aAoiIiIpLnRvUGFuZGFzKCkKCnByaW50KCJNb250aGx5IFJldmVudWUgVHJlbmRzOiIpCmRpc3BsYXkobW9udGhseV90cmVuZHNfdml6KQ==\").decode())\n\ntry:\n    # run user code\n    __backend_agg_user_code_fn()\n\n    #reset display function\n    display = __backend_agg_display_orig\n\n    if len(__backend_agg_dfs) > 0:\n        # create a temp view\n        if type(__backend_agg_dfs[0]).__module__ == \"databricks.koalas.frame\":\n            # koalas dataframe\n            __backend_agg_dfs[0].to_spark().createOrReplaceTempView(\"DatabricksView9792fa1\")\n        elif type(__backend_agg_dfs[0]).__module__ == \"pandas.core.frame\" or isinstance(__backend_agg_dfs[0], list):\n            # pandas dataframe\n            spark.createDataFrame(__backend_agg_dfs[0]).createOrReplaceTempView(\"DatabricksView9792fa1\")\n        else:\n            __backend_agg_dfs[0].createOrReplaceTempView(\"DatabricksView9792fa1\")\n        #run backend agg\n        display(spark.sql(\"\"\"WITH q AS (select * from DatabricksView9792fa1) SELECT `YearMonth`,SUM(`MonthlyOrders`) `column_663318f9344` FROM q GROUP BY `YearMonth`\"\"\"))\n    else:\n        displayHTML(\"dataframe no longer exists. If you're using dataframe.display(), use display(dataframe) instead.\")\n\n\nfinally:\n    spark.sql(\"drop view if exists DatabricksView9792fa1\")\n    display = __backend_agg_display_orig\n    del __backend_agg_display_new\n    del __backend_agg_display_orig\n    del __backend_agg_dfs\n    del __backend_agg_user_code_fn\n\n",
       "commandTitle": "Monthly Orders",
       "commandType": "auto",
       "commandVersion": 0,
       "commentThread": [],
       "commentsVisible": false,
       "contentSha256Hex": null,
       "customPlotOptions": {
        "redashChart": [
         {
          "key": "type",
          "value": "CHART"
         },
         {
          "key": "options",
          "value": {
           "alignYAxesAtZero": true,
           "coefficient": 1,
           "columnConfigurationMap": {
            "x": {
             "column": "YearMonth",
             "id": "column_663318f9347"
            },
            "y": [
             {
              "column": "MonthlyOrders",
              "id": "column_663318f9344",
              "transform": "SUM"
             }
            ]
           },
           "dateTimeFormat": "DD/MM/YYYY HH:mm",
           "direction": {
            "type": "counterclockwise"
           },
           "error_y": {
            "type": "data",
            "visible": true
           },
           "globalSeriesType": "line",
           "isAggregationOn": true,
           "legend": {
            "traceorder": "normal"
           },
           "missingValuesAsZero": true,
           "numberFormat": "0,0.[00000]",
           "percentFormat": "0[.]00%",
           "series": {
            "error_y": {
             "type": "data",
             "visible": true
            },
            "percentValues": false,
            "stacking": null
           },
           "seriesOptions": {
            "column_663318f9344": {
             "color": "#8BCAE7",
             "name": "Monthly Orders",
             "type": "line",
             "yAxis": 0
            }
           },
           "showDataLabels": false,
           "sizemode": "diameter",
           "sortX": false,
           "sortY": true,
           "swappedAxes": false,
           "textFormat": "",
           "useAggregationsUi": true,
           "valuesOptions": {},
           "version": 2,
           "xAxis": {
            "labels": {
             "enabled": true
            },
            "title": {
             "text": "Month"
            },
            "type": "-"
           },
           "yAxis": [
            {
             "type": "-"
            },
            {
             "opposite": true,
             "type": "-"
            }
           ]
          }
         }
        ]
       },
       "datasetPreviewNameToCmdIdMap": {},
       "diffDeletes": [],
       "diffInserts": [],
       "displayType": "redashChart",
       "error": null,
       "errorDetails": null,
       "errorSummary": null,
       "errorTraceType": null,
       "finishTime": 0,
       "globalVars": {},
       "guid": "",
       "height": "auto",
       "hideCommandCode": false,
       "hideCommandResult": false,
       "iPythonMetadata": null,
       "inputWidgets": {},
       "isLockedInExamMode": false,
       "latestAssumeRoleInfo": null,
       "latestUser": "a user",
       "latestUserId": null,
       "listResultMetadata": null,
       "metadata": {
        "byteLimit": 2048000,
        "rowLimit": 10000
       },
       "nuid": "22518a3e-c3db-4b07-8232-03d1f00ee025",
       "origId": 0,
       "parentHierarchy": [],
       "pivotAggregation": null,
       "pivotColumns": null,
       "position": 1.0,
       "resultDbfsErrorMessage": null,
       "resultDbfsStatus": "INLINED_IN_TREE",
       "results": null,
       "showCommandTitle": false,
       "startTime": 0,
       "state": "finished",
       "streamStates": {},
       "subcommandOptions": {
        "queryPlan": {
         "groups": [
          {
           "column": "YearMonth",
           "type": "column"
          }
         ],
         "selects": [
          {
           "column": "YearMonth",
           "type": "column"
          },
          {
           "alias": "column_663318f9344",
           "args": [
            {
             "column": "MonthlyOrders",
             "type": "column"
            }
           ],
           "function": "SUM",
           "type": "function"
          }
         ]
        }
       },
       "submitTime": 0,
       "subtype": "tableResultSubCmd.visualization",
       "tableResultIndex": 0,
       "tableResultSettingsMap": {},
       "useConsistentColors": false,
       "version": "CommandV1",
       "width": "auto",
       "workflows": [],
       "xColumns": null,
       "yColumns": null
      }
     },
     "output_type": "display_data"
    }
   ],
   "source": [
    "# Monthly revenue and order trends\n",
    "monthly_trends_viz = spark.sql(\"\"\"\n",
    "    SELECT \n",
    "        CONCAT(Year, '-', LPAD(Month, 2, '0')) as YearMonth,\n",
    "        SUM(TotalRevenue) as MonthlyRevenue,\n",
    "        SUM(TotalOrders) as MonthlyOrders\n",
    "    FROM gold_sales_timeseries\n",
    "    GROUP BY Year, Month\n",
    "    ORDER BY Year, Month\n",
    "\"\"\").toPandas()\n",
    "\n",
    "print(\"Monthly Revenue Trends:\")\n",
    "display(monthly_trends_viz)"
   ]
  },
  {
   "cell_type": "code",
   "execution_count": 0,
   "metadata": {
    "application/vnd.databricks.v1+cell": {
     "cellMetadata": {
      "byteLimit": 2048000,
      "rowLimit": 10000
     },
     "inputWidgets": {},
     "nuid": "ce9b33cd-dc84-460e-8346-21623b91bf2f",
     "showTitle": true,
     "tableResultSettingsMap": {},
     "title": "Top RFM Combos with Highest Customer Count and Revenue"
    }
   },
   "outputs": [
    {
     "output_type": "stream",
     "name": "stdout",
     "output_type": "stream",
     "text": [
      "Top 10 RFM Combinations by Customer Count\n"
     ]
    },
    {
     "output_type": "display_data",
     "data": {
      "text/html": [
       "<style scoped>\n",
       "  .table-result-container {\n",
       "    max-height: 300px;\n",
       "    overflow: auto;\n",
       "  }\n",
       "  table, th, td {\n",
       "    border: 1px solid black;\n",
       "    border-collapse: collapse;\n",
       "  }\n",
       "  th, td {\n",
       "    padding: 5px;\n",
       "  }\n",
       "  th {\n",
       "    text-align: left;\n",
       "  }\n",
       "</style><div class='table-result-container'><table class='table-result'><thead style='background-color: white'><tr><th>RFM_Combination</th><th>R_Score</th><th>F_Score</th><th>M_Score</th><th>CustomerCount</th><th>AvgSpending</th><th>Revenue_Potential</th></tr></thead><tbody><tr><td>R:5 F:1 M:1</td><td>5</td><td>1</td><td>1</td><td>346</td><td>11224.67</td><td>3883735.82</td></tr><tr><td>R:1 F:5 M:5</td><td>1</td><td>5</td><td>5</td><td>332</td><td>144.2</td><td>47874.4</td></tr><tr><td>R:1 F:5 M:4</td><td>1</td><td>5</td><td>4</td><td>209</td><td>344.59</td><td>72019.31</td></tr><tr><td>R:4 F:1 M:1</td><td>4</td><td>1</td><td>1</td><td>177</td><td>6031.77</td><td>1067623.29</td></tr><tr><td>R:4 F:2 M:2</td><td>4</td><td>2</td><td>2</td><td>137</td><td>1368.19</td><td>187442.03</td></tr><tr><td>R:3 F:4 M:5</td><td>3</td><td>4</td><td>5</td><td>132</td><td>156.39</td><td>20643.48</td></tr><tr><td>R:2 F:5 M:5</td><td>2</td><td>5</td><td>5</td><td>114</td><td>142.9</td><td>16290.6</td></tr><tr><td>R:5 F:2 M:2</td><td>5</td><td>2</td><td>2</td><td>106</td><td>1372.97</td><td>145534.82</td></tr><tr><td>R:3 F:4 M:4</td><td>3</td><td>4</td><td>4</td><td>104</td><td>360.48</td><td>37489.92</td></tr><tr><td>R:3 F:3 M:3</td><td>3</td><td>3</td><td>3</td><td>102</td><td>689.11</td><td>70289.22</td></tr></tbody></table></div>"
      ]
     },
     "metadata": {
      "application/vnd.databricks.v1+output": {
       "addedWidgets": {},
       "aggData": [],
       "aggError": "",
       "aggOverflow": false,
       "aggSchema": [],
       "aggSeriesLimitReached": false,
       "aggType": "",
       "arguments": {},
       "columnCustomDisplayInfos": {},
       "data": [
        [
         "R:5 F:1 M:1",
         5,
         1,
         1,
         346,
         11224.67,
         3883735.82
        ],
        [
         "R:1 F:5 M:5",
         1,
         5,
         5,
         332,
         144.2,
         47874.4
        ],
        [
         "R:1 F:5 M:4",
         1,
         5,
         4,
         209,
         344.59,
         72019.31
        ],
        [
         "R:4 F:1 M:1",
         4,
         1,
         1,
         177,
         6031.77,
         1067623.29
        ],
        [
         "R:4 F:2 M:2",
         4,
         2,
         2,
         137,
         1368.19,
         187442.03
        ],
        [
         "R:3 F:4 M:5",
         3,
         4,
         5,
         132,
         156.39,
         20643.48
        ],
        [
         "R:2 F:5 M:5",
         2,
         5,
         5,
         114,
         142.9,
         16290.6
        ],
        [
         "R:5 F:2 M:2",
         5,
         2,
         2,
         106,
         1372.97,
         145534.82
        ],
        [
         "R:3 F:4 M:4",
         3,
         4,
         4,
         104,
         360.48,
         37489.92
        ],
        [
         "R:3 F:3 M:3",
         3,
         3,
         3,
         102,
         689.11,
         70289.22
        ]
       ],
       "datasetInfos": [],
       "dbfsResultPath": null,
       "isJsonSchema": true,
       "metadata": {},
       "overflow": false,
       "plotOptions": {
        "customPlotOptions": {},
        "displayType": "table",
        "pivotAggregation": null,
        "pivotColumns": null,
        "xColumns": null,
        "yColumns": null
       },
       "removedWidgets": [],
       "schema": [
        {
         "metadata": "{}",
         "name": "RFM_Combination",
         "type": "\"string\""
        },
        {
         "metadata": "{}",
         "name": "R_Score",
         "type": "\"integer\""
        },
        {
         "metadata": "{}",
         "name": "F_Score",
         "type": "\"integer\""
        },
        {
         "metadata": "{}",
         "name": "M_Score",
         "type": "\"integer\""
        },
        {
         "metadata": "{}",
         "name": "CustomerCount",
         "type": "\"long\""
        },
        {
         "metadata": "{}",
         "name": "AvgSpending",
         "type": "\"double\""
        },
        {
         "metadata": "{}",
         "name": "Revenue_Potential",
         "type": "\"double\""
        }
       ],
       "type": "table"
      }
     },
     "output_type": "display_data"
    },
    {
     "output_type": "display_data",
     "data": {
      "text/plain": [
       "Databricks visualization. Run in Databricks to view."
      ]
     },
     "metadata": {
      "application/vnd.databricks.v1.subcommand+json": {
       "baseErrorDetails": null,
       "bindings": {},
       "collapsed": false,
       "command": "%python\n__backend_agg_display_orig = display\n__backend_agg_dfs = []\ndef __backend_agg_display_new(df):\n    __backend_agg_df_modules = [\"pandas.core.frame\", \"databricks.koalas.frame\", \"pyspark.sql.dataframe\", \"pyspark.pandas.frame\", \"pyspark.sql.connect.dataframe\"]\n    if (type(df).__module__ in __backend_agg_df_modules and type(df).__name__ == 'DataFrame') or isinstance(df, list):\n        __backend_agg_dfs.append(df)\n\ndisplay = __backend_agg_display_new\n\ndef __backend_agg_user_code_fn():\n    import base64\n    exec(base64.standard_b64decode(\"IyBUb3AvQm90dG9tIHBlcmZvcm1pbmcgUkZNIGNvbWJpbmF0aW9ucwpwcmludCgiVG9wIDEwIFJGTSBDb21iaW5hdGlvbnMgYnkgQ3VzdG9tZXIgQ291bnQiKQp0b3BfcmZtX2NvbWJvcyA9IHNwYXJrLnNxbCgiIiIKICAgIFNFTEVDVCAKICAgICAgICBDT05DQVQoJ1I6JywgUl9TY29yZSwgJyBGOicsIEZfU2NvcmUsICcgTTonLCBNX1Njb3JlKSBhcyBSRk1fQ29tYmluYXRpb24sCiAgICAgICAgUl9TY29yZSwgRl9TY29yZSwgTV9TY29yZSwKICAgICAgICBDdXN0b21lckNvdW50LAogICAgICAgIEF2Z1NwZW5kaW5nLAogICAgICAgIFJPVU5EKEN1c3RvbWVyQ291bnQgKiBBdmdTcGVuZGluZywgMikgYXMgUmV2ZW51ZV9Qb3RlbnRpYWwKICAgIEZST00gKAogICAgICAgIFNFTEVDVCAKICAgICAgICAgICAgUl9TY29yZSwgRl9TY29yZSwgTV9TY29yZSwKICAgICAgICAgICAgQ09VTlQoKikgYXMgQ3VzdG9tZXJDb3VudCwKICAgICAgICAgICAgUk9VTkQoQVZHKE1vbmV0YXJ5KSwgMikgYXMgQXZnU3BlbmRpbmcKICAgICAgICBGUk9NIGdvbGRfY3VzdG9tZXJfYW5hbHl0aWNzCiAgICAgICAgR1JPVVAgQlkgUl9TY29yZSwgRl9TY29yZSwgTV9TY29yZQogICAgKSByZm1fZGF0YQogICAgT1JERVIgQlkgQ3VzdG9tZXJDb3VudCBERVNDCiAgICBMSU1JVCAxMAoiIiIpCgpkaXNwbGF5KHRvcF9yZm1fY29tYm9zKQ==\").decode())\n\ntry:\n    # run user code\n    __backend_agg_user_code_fn()\n\n    #reset display function\n    display = __backend_agg_display_orig\n\n    if len(__backend_agg_dfs) > 0:\n        # create a temp view\n        if type(__backend_agg_dfs[0]).__module__ == \"databricks.koalas.frame\":\n            # koalas dataframe\n            __backend_agg_dfs[0].to_spark().createOrReplaceTempView(\"DatabricksView8df42aa\")\n        elif type(__backend_agg_dfs[0]).__module__ == \"pandas.core.frame\" or isinstance(__backend_agg_dfs[0], list):\n            # pandas dataframe\n            spark.createDataFrame(__backend_agg_dfs[0]).createOrReplaceTempView(\"DatabricksView8df42aa\")\n        else:\n            __backend_agg_dfs[0].createOrReplaceTempView(\"DatabricksView8df42aa\")\n        #run backend agg\n        display(spark.sql(\"\"\"WITH q AS (select * from DatabricksView8df42aa) SELECT `CustomerCount`,`AvgSpending`,`RFM_Combination` FROM q\"\"\"))\n    else:\n        displayHTML(\"dataframe no longer exists. If you're using dataframe.display(), use display(dataframe) instead.\")\n\n\nfinally:\n    spark.sql(\"drop view if exists DatabricksView8df42aa\")\n    display = __backend_agg_display_orig\n    del __backend_agg_display_new\n    del __backend_agg_display_orig\n    del __backend_agg_dfs\n    del __backend_agg_user_code_fn\n\n",
       "commandTitle": "Top RFM Combos By Customer Count",
       "commandType": "auto",
       "commandVersion": 0,
       "commentThread": [],
       "commentsVisible": false,
       "contentSha256Hex": null,
       "customPlotOptions": {
        "redashChart": [
         {
          "key": "type",
          "value": "CHART"
         },
         {
          "key": "options",
          "value": {
           "alignYAxesAtZero": true,
           "coefficient": 1,
           "columnConfigurationMap": {
            "series": {
             "column": "RFM_Combination",
             "id": "column_663318f9416"
            },
            "x": {
             "column": "CustomerCount",
             "id": "column_663318f9414"
            },
            "y": [
             {
              "column": "AvgSpending",
              "id": "column_663318f9415"
             }
            ]
           },
           "dateTimeFormat": "DD/MM/YYYY HH:mm",
           "direction": {
            "type": "counterclockwise"
           },
           "error_y": {
            "type": "data",
            "visible": true
           },
           "globalSeriesType": "scatter",
           "legend": {
            "traceorder": "normal"
           },
           "missingValuesAsZero": true,
           "numberFormat": "0,0.[00000]",
           "percentFormat": "0[.]00%",
           "series": {
            "error_y": {
             "type": "data",
             "visible": true
            },
            "stacking": null
           },
           "seriesOptions": {
            "AvgSpending": {
             "type": "scatter",
             "yAxis": 0
            }
           },
           "showDataLabels": false,
           "sizemode": "diameter",
           "sortX": true,
           "sortY": true,
           "swappedAxes": false,
           "textFormat": "",
           "useAggregationsUi": true,
           "valuesOptions": {},
           "version": 2,
           "xAxis": {
            "labels": {
             "enabled": true
            },
            "type": "-"
           },
           "yAxis": [
            {
             "type": "-"
            },
            {
             "opposite": true,
             "type": "-"
            }
           ]
          }
         }
        ]
       },
       "datasetPreviewNameToCmdIdMap": {},
       "diffDeletes": [],
       "diffInserts": [],
       "displayType": "redashChart",
       "error": null,
       "errorDetails": null,
       "errorSummary": null,
       "errorTraceType": null,
       "finishTime": 0,
       "globalVars": {},
       "guid": "",
       "height": "auto",
       "hideCommandCode": false,
       "hideCommandResult": false,
       "iPythonMetadata": null,
       "inputWidgets": {},
       "isLockedInExamMode": false,
       "latestAssumeRoleInfo": null,
       "latestUser": "a user",
       "latestUserId": null,
       "listResultMetadata": null,
       "metadata": {
        "byteLimit": 2048000,
        "rowLimit": 10000
       },
       "nuid": "925d4d27-59c9-4f2b-b096-d684a4fa9c83",
       "origId": 0,
       "parentHierarchy": [],
       "pivotAggregation": null,
       "pivotColumns": null,
       "position": 18.890625,
       "resultDbfsErrorMessage": null,
       "resultDbfsStatus": "INLINED_IN_TREE",
       "results": null,
       "showCommandTitle": false,
       "startTime": 0,
       "state": "finished",
       "streamStates": {},
       "subcommandOptions": {
        "queryPlan": {
         "selects": [
          {
           "column": "CustomerCount",
           "type": "column"
          },
          {
           "column": "AvgSpending",
           "type": "column"
          },
          {
           "column": "RFM_Combination",
           "type": "column"
          }
         ]
        }
       },
       "submitTime": 0,
       "subtype": "tableResultSubCmd.visualization",
       "tableResultIndex": 0,
       "tableResultSettingsMap": {},
       "useConsistentColors": false,
       "version": "CommandV1",
       "width": "auto",
       "workflows": [],
       "xColumns": null,
       "yColumns": null
      }
     },
     "output_type": "display_data"
    }
   ],
   "source": [
    "# Top/Bottom performing RFM combinations\n",
    "print(\"Top 10 RFM Combinations by Customer Count\")\n",
    "top_rfm_combos = spark.sql(\"\"\"\n",
    "    SELECT \n",
    "        CONCAT('R:', R_Score, ' F:', F_Score, ' M:', M_Score) as RFM_Combination,\n",
    "        R_Score, F_Score, M_Score,\n",
    "        CustomerCount,\n",
    "        AvgSpending,\n",
    "        ROUND(CustomerCount * AvgSpending, 2) as Revenue_Potential\n",
    "    FROM (\n",
    "        SELECT \n",
    "            R_Score, F_Score, M_Score,\n",
    "            COUNT(*) as CustomerCount,\n",
    "            ROUND(AVG(Monetary), 2) as AvgSpending\n",
    "        FROM gold_customer_analytics\n",
    "        GROUP BY R_Score, F_Score, M_Score\n",
    "    ) rfm_data\n",
    "    ORDER BY CustomerCount DESC\n",
    "    LIMIT 10\n",
    "\"\"\")\n",
    "\n",
    "display(top_rfm_combos)"
   ]
  },
  {
   "cell_type": "code",
   "execution_count": 0,
   "metadata": {
    "application/vnd.databricks.v1+cell": {
     "cellMetadata": {
      "byteLimit": 2048000,
      "rowLimit": 10000
     },
     "inputWidgets": {},
     "nuid": "b41715e4-16ea-4023-8867-80f14085f543",
     "showTitle": true,
     "tableResultSettingsMap": {},
     "title": "Customer Count vs Avg Spending"
    }
   },
   "outputs": [
    {
     "output_type": "stream",
     "name": "stdout",
     "output_type": "stream",
     "text": [
      "Customer Count vs Average Spending by R_Score\n"
     ]
    },
    {
     "output_type": "display_data",
     "data": {
      "text/html": [
       "<style scoped>\n",
       "  .table-result-container {\n",
       "    max-height: 300px;\n",
       "    overflow: auto;\n",
       "  }\n",
       "  table, th, td {\n",
       "    border: 1px solid black;\n",
       "    border-collapse: collapse;\n",
       "  }\n",
       "  th, td {\n",
       "    padding: 5px;\n",
       "  }\n",
       "  th {\n",
       "    text-align: left;\n",
       "  }\n",
       "</style><div class='table-result-container'><table class='table-result'><thead style='background-color: white'><tr><th>R_Score</th><th>F_Score</th><th>M_Score</th><th>CustomerCount</th><th>AvgSpending</th><th>RFM_Label</th></tr></thead><tbody><tr><td>1</td><td>1</td><td>1</td><td>5</td><td>4421.33</td><td>R:1 F:1 M:1</td></tr><tr><td>1</td><td>1</td><td>2</td><td>2</td><td>1303.67</td><td>R:1 F:1 M:2</td></tr><tr><td>1</td><td>1</td><td>3</td><td>3</td><td>677.93</td><td>R:1 F:1 M:3</td></tr><tr><td>1</td><td>1</td><td>4</td><td>1</td><td>319.5</td><td>R:1 F:1 M:4</td></tr><tr><td>1</td><td>2</td><td>1</td><td>1</td><td>3619.22</td><td>R:1 F:2 M:1</td></tr><tr><td>1</td><td>2</td><td>2</td><td>10</td><td>1363.53</td><td>R:1 F:2 M:2</td></tr><tr><td>1</td><td>2</td><td>3</td><td>11</td><td>587.68</td><td>R:1 F:2 M:3</td></tr><tr><td>1</td><td>2</td><td>4</td><td>2</td><td>332.08</td><td>R:1 F:2 M:4</td></tr><tr><td>1</td><td>3</td><td>1</td><td>6</td><td>16117.95</td><td>R:1 F:3 M:1</td></tr><tr><td>1</td><td>3</td><td>2</td><td>12</td><td>1216.1</td><td>R:1 F:3 M:2</td></tr><tr><td>1</td><td>3</td><td>3</td><td>13</td><td>702.79</td><td>R:1 F:3 M:3</td></tr><tr><td>1</td><td>3</td><td>4</td><td>17</td><td>375.42</td><td>R:1 F:3 M:4</td></tr><tr><td>1</td><td>3</td><td>5</td><td>3</td><td>208.88</td><td>R:1 F:3 M:5</td></tr><tr><td>1</td><td>4</td><td>1</td><td>4</td><td>4902.78</td><td>R:1 F:4 M:1</td></tr><tr><td>1</td><td>4</td><td>2</td><td>23</td><td>1351.24</td><td>R:1 F:4 M:2</td></tr><tr><td>1</td><td>4</td><td>3</td><td>48</td><td>683.24</td><td>R:1 F:4 M:3</td></tr><tr><td>1</td><td>4</td><td>4</td><td>54</td><td>347.08</td><td>R:1 F:4 M:4</td></tr><tr><td>1</td><td>4</td><td>5</td><td>28</td><td>166.6</td><td>R:1 F:4 M:5</td></tr><tr><td>1</td><td>5</td><td>1</td><td>5</td><td>17430.92</td><td>R:1 F:5 M:1</td></tr><tr><td>1</td><td>5</td><td>2</td><td>21</td><td>1304.88</td><td>R:1 F:5 M:2</td></tr><tr><td>1</td><td>5</td><td>3</td><td>59</td><td>622.06</td><td>R:1 F:5 M:3</td></tr><tr><td>1</td><td>5</td><td>4</td><td>209</td><td>344.59</td><td>R:1 F:5 M:4</td></tr><tr><td>1</td><td>5</td><td>5</td><td>332</td><td>144.2</td><td>R:1 F:5 M:5</td></tr><tr><td>2</td><td>1</td><td>1</td><td>28</td><td>4171.47</td><td>R:2 F:1 M:1</td></tr><tr><td>2</td><td>1</td><td>2</td><td>19</td><td>1484.9</td><td>R:2 F:1 M:2</td></tr><tr><td>2</td><td>1</td><td>3</td><td>5</td><td>820.39</td><td>R:2 F:1 M:3</td></tr><tr><td>2</td><td>1</td><td>5</td><td>1</td><td>70.02</td><td>R:2 F:1 M:5</td></tr><tr><td>2</td><td>2</td><td>1</td><td>29</td><td>2864.26</td><td>R:2 F:2 M:1</td></tr><tr><td>2</td><td>2</td><td>2</td><td>54</td><td>1443.37</td><td>R:2 F:2 M:2</td></tr><tr><td>2</td><td>2</td><td>3</td><td>30</td><td>694.83</td><td>R:2 F:2 M:3</td></tr><tr><td>2</td><td>2</td><td>4</td><td>8</td><td>392.07</td><td>R:2 F:2 M:4</td></tr><tr><td>2</td><td>2</td><td>5</td><td>3</td><td>194.63</td><td>R:2 F:2 M:5</td></tr><tr><td>2</td><td>3</td><td>1</td><td>16</td><td>3868.2</td><td>R:2 F:3 M:1</td></tr><tr><td>2</td><td>3</td><td>2</td><td>74</td><td>1263.52</td><td>R:2 F:3 M:2</td></tr><tr><td>2</td><td>3</td><td>3</td><td>101</td><td>675.46</td><td>R:2 F:3 M:3</td></tr><tr><td>2</td><td>3</td><td>4</td><td>58</td><td>369.65</td><td>R:2 F:3 M:4</td></tr><tr><td>2</td><td>3</td><td>5</td><td>19</td><td>190.97</td><td>R:2 F:3 M:5</td></tr><tr><td>2</td><td>4</td><td>1</td><td>5</td><td>3035.12</td><td>R:2 F:4 M:1</td></tr><tr><td>2</td><td>4</td><td>2</td><td>21</td><td>1312.74</td><td>R:2 F:4 M:2</td></tr><tr><td>2</td><td>4</td><td>3</td><td>54</td><td>645.57</td><td>R:2 F:4 M:3</td></tr><tr><td>2</td><td>4</td><td>4</td><td>58</td><td>353.16</td><td>R:2 F:4 M:4</td></tr><tr><td>2</td><td>4</td><td>5</td><td>43</td><td>147.13</td><td>R:2 F:4 M:5</td></tr><tr><td>2</td><td>5</td><td>1</td><td>2</td><td>4441.22</td><td>R:2 F:5 M:1</td></tr><tr><td>2</td><td>5</td><td>2</td><td>13</td><td>1447.04</td><td>R:2 F:5 M:2</td></tr><tr><td>2</td><td>5</td><td>3</td><td>40</td><td>642.0</td><td>R:2 F:5 M:3</td></tr><tr><td>2</td><td>5</td><td>4</td><td>74</td><td>342.58</td><td>R:2 F:5 M:4</td></tr><tr><td>2</td><td>5</td><td>5</td><td>114</td><td>142.9</td><td>R:2 F:5 M:5</td></tr><tr><td>3</td><td>1</td><td>1</td><td>84</td><td>5340.44</td><td>R:3 F:1 M:1</td></tr><tr><td>3</td><td>1</td><td>2</td><td>31</td><td>1477.31</td><td>R:3 F:1 M:2</td></tr><tr><td>3</td><td>1</td><td>3</td><td>5</td><td>759.72</td><td>R:3 F:1 M:3</td></tr><tr><td>3</td><td>2</td><td>1</td><td>37</td><td>3022.22</td><td>R:3 F:2 M:1</td></tr><tr><td>3</td><td>2</td><td>2</td><td>84</td><td>1383.45</td><td>R:3 F:2 M:2</td></tr><tr><td>3</td><td>2</td><td>3</td><td>50</td><td>670.62</td><td>R:3 F:2 M:3</td></tr><tr><td>3</td><td>2</td><td>4</td><td>6</td><td>388.28</td><td>R:3 F:2 M:4</td></tr><tr><td>3</td><td>2</td><td>5</td><td>2</td><td>131.66</td><td>R:3 F:2 M:5</td></tr><tr><td>3</td><td>3</td><td>1</td><td>22</td><td>3260.44</td><td>R:3 F:3 M:1</td></tr><tr><td>3</td><td>3</td><td>2</td><td>54</td><td>1342.25</td><td>R:3 F:3 M:2</td></tr><tr><td>3</td><td>3</td><td>3</td><td>102</td><td>689.11</td><td>R:3 F:3 M:3</td></tr><tr><td>3</td><td>3</td><td>4</td><td>65</td><td>365.24</td><td>R:3 F:3 M:4</td></tr><tr><td>3</td><td>3</td><td>5</td><td>29</td><td>167.15</td><td>R:3 F:3 M:5</td></tr><tr><td>3</td><td>4</td><td>1</td><td>3</td><td>4120.77</td><td>R:3 F:4 M:1</td></tr><tr><td>3</td><td>4</td><td>2</td><td>16</td><td>1241.29</td><td>R:3 F:4 M:2</td></tr><tr><td>3</td><td>4</td><td>3</td><td>43</td><td>648.68</td><td>R:3 F:4 M:3</td></tr><tr><td>3</td><td>4</td><td>4</td><td>104</td><td>360.48</td><td>R:3 F:4 M:4</td></tr><tr><td>3</td><td>4</td><td>5</td><td>132</td><td>156.39</td><td>R:3 F:4 M:5</td></tr><tr><td>4</td><td>1</td><td>1</td><td>177</td><td>6031.77</td><td>R:4 F:1 M:1</td></tr><tr><td>4</td><td>1</td><td>2</td><td>61</td><td>1525.02</td><td>R:4 F:1 M:2</td></tr><tr><td>4</td><td>1</td><td>3</td><td>8</td><td>831.32</td><td>R:4 F:1 M:3</td></tr><tr><td>4</td><td>1</td><td>4</td><td>1</td><td>306.72</td><td>R:4 F:1 M:4</td></tr><tr><td>4</td><td>2</td><td>1</td><td>46</td><td>3478.05</td><td>R:4 F:2 M:1</td></tr><tr><td>4</td><td>2</td><td>2</td><td>137</td><td>1368.19</td><td>R:4 F:2 M:2</td></tr><tr><td>4</td><td>2</td><td>3</td><td>94</td><td>720.42</td><td>R:4 F:2 M:3</td></tr><tr><td>4</td><td>2</td><td>4</td><td>22</td><td>362.63</td><td>R:4 F:2 M:4</td></tr><tr><td>4</td><td>3</td><td>1</td><td>4</td><td>3198.55</td><td>R:4 F:3 M:1</td></tr><tr><td>4</td><td>3</td><td>2</td><td>22</td><td>1253.7</td><td>R:4 F:3 M:2</td></tr><tr><td>4</td><td>3</td><td>3</td><td>58</td><td>639.35</td><td>R:4 F:3 M:3</td></tr><tr><td>4</td><td>3</td><td>4</td><td>55</td><td>362.69</td><td>R:4 F:3 M:4</td></tr><tr><td>4</td><td>3</td><td>5</td><td>18</td><td>183.93</td><td>R:4 F:3 M:5</td></tr><tr><td>4</td><td>4</td><td>1</td><td>1</td><td>2328.84</td><td>R:4 F:4 M:1</td></tr><tr><td>4</td><td>4</td><td>2</td><td>5</td><td>1279.8</td><td>R:4 F:4 M:2</td></tr><tr><td>4</td><td>4</td><td>3</td><td>18</td><td>640.04</td><td>R:4 F:4 M:3</td></tr><tr><td>4</td><td>4</td><td>4</td><td>55</td><td>341.99</td><td>R:4 F:4 M:4</td></tr><tr><td>4</td><td>4</td><td>5</td><td>87</td><td>145.25</td><td>R:4 F:4 M:5</td></tr><tr><td>5</td><td>1</td><td>1</td><td>346</td><td>11224.67</td><td>R:5 F:1 M:1</td></tr><tr><td>5</td><td>1</td><td>2</td><td>83</td><td>1562.86</td><td>R:5 F:1 M:2</td></tr><tr><td>5</td><td>1</td><td>3</td><td>8</td><td>830.62</td><td>R:5 F:1 M:3</td></tr><tr><td>5</td><td>1</td><td>4</td><td>1</td><td>400.86</td><td>R:5 F:1 M:4</td></tr><tr><td>5</td><td>1</td><td>5</td><td>1</td><td>201.12</td><td>R:5 F:1 M:5</td></tr><tr><td>5</td><td>2</td><td>1</td><td>45</td><td>3317.6</td><td>R:5 F:2 M:1</td></tr><tr><td>5</td><td>2</td><td>2</td><td>106</td><td>1372.97</td><td>R:5 F:2 M:2</td></tr><tr><td>5</td><td>2</td><td>3</td><td>71</td><td>706.91</td><td>R:5 F:2 M:3</td></tr><tr><td>5</td><td>2</td><td>4</td><td>16</td><td>396.71</td><td>R:5 F:2 M:4</td></tr><tr><td>5</td><td>2</td><td>5</td><td>5</td><td>181.06</td><td>R:5 F:2 M:5</td></tr><tr><td>5</td><td>3</td><td>1</td><td>3</td><td>57954.78</td><td>R:5 F:3 M:1</td></tr><tr><td>5</td><td>3</td><td>2</td><td>20</td><td>1207.36</td><td>R:5 F:3 M:2</td></tr><tr><td>5</td><td>3</td><td>3</td><td>40</td><td>667.51</td><td>R:5 F:3 M:3</td></tr><tr><td>5</td><td>3</td><td>4</td><td>41</td><td>358.04</td><td>R:5 F:3 M:4</td></tr><tr><td>5</td><td>3</td><td>5</td><td>17</td><td>174.22</td><td>R:5 F:3 M:5</td></tr><tr><td>5</td><td>4</td><td>1</td><td>1</td><td>3861.0</td><td>R:5 F:4 M:1</td></tr><tr><td>5</td><td>4</td><td>2</td><td>1</td><td>1117.48</td><td>R:5 F:4 M:2</td></tr><tr><td>5</td><td>4</td><td>3</td><td>8</td><td>607.11</td><td>R:5 F:4 M:3</td></tr><tr><td>5</td><td>4</td><td>4</td><td>22</td><td>334.04</td><td>R:5 F:4 M:4</td></tr><tr><td>5</td><td>4</td><td>5</td><td>35</td><td>160.5</td><td>R:5 F:4 M:5</td></tr></tbody></table></div>"
      ]
     },
     "metadata": {
      "application/vnd.databricks.v1+output": {
       "addedWidgets": {},
       "aggData": [],
       "aggError": "",
       "aggOverflow": false,
       "aggSchema": [],
       "aggSeriesLimitReached": false,
       "aggType": "",
       "arguments": {},
       "columnCustomDisplayInfos": {},
       "data": [
        [
         1,
         1,
         1,
         5,
         4421.33,
         "R:1 F:1 M:1"
        ],
        [
         1,
         1,
         2,
         2,
         1303.67,
         "R:1 F:1 M:2"
        ],
        [
         1,
         1,
         3,
         3,
         677.93,
         "R:1 F:1 M:3"
        ],
        [
         1,
         1,
         4,
         1,
         319.5,
         "R:1 F:1 M:4"
        ],
        [
         1,
         2,
         1,
         1,
         3619.22,
         "R:1 F:2 M:1"
        ],
        [
         1,
         2,
         2,
         10,
         1363.53,
         "R:1 F:2 M:2"
        ],
        [
         1,
         2,
         3,
         11,
         587.68,
         "R:1 F:2 M:3"
        ],
        [
         1,
         2,
         4,
         2,
         332.08,
         "R:1 F:2 M:4"
        ],
        [
         1,
         3,
         1,
         6,
         16117.95,
         "R:1 F:3 M:1"
        ],
        [
         1,
         3,
         2,
         12,
         1216.1,
         "R:1 F:3 M:2"
        ],
        [
         1,
         3,
         3,
         13,
         702.79,
         "R:1 F:3 M:3"
        ],
        [
         1,
         3,
         4,
         17,
         375.42,
         "R:1 F:3 M:4"
        ],
        [
         1,
         3,
         5,
         3,
         208.88,
         "R:1 F:3 M:5"
        ],
        [
         1,
         4,
         1,
         4,
         4902.78,
         "R:1 F:4 M:1"
        ],
        [
         1,
         4,
         2,
         23,
         1351.24,
         "R:1 F:4 M:2"
        ],
        [
         1,
         4,
         3,
         48,
         683.24,
         "R:1 F:4 M:3"
        ],
        [
         1,
         4,
         4,
         54,
         347.08,
         "R:1 F:4 M:4"
        ],
        [
         1,
         4,
         5,
         28,
         166.6,
         "R:1 F:4 M:5"
        ],
        [
         1,
         5,
         1,
         5,
         17430.92,
         "R:1 F:5 M:1"
        ],
        [
         1,
         5,
         2,
         21,
         1304.88,
         "R:1 F:5 M:2"
        ],
        [
         1,
         5,
         3,
         59,
         622.06,
         "R:1 F:5 M:3"
        ],
        [
         1,
         5,
         4,
         209,
         344.59,
         "R:1 F:5 M:4"
        ],
        [
         1,
         5,
         5,
         332,
         144.2,
         "R:1 F:5 M:5"
        ],
        [
         2,
         1,
         1,
         28,
         4171.47,
         "R:2 F:1 M:1"
        ],
        [
         2,
         1,
         2,
         19,
         1484.9,
         "R:2 F:1 M:2"
        ],
        [
         2,
         1,
         3,
         5,
         820.39,
         "R:2 F:1 M:3"
        ],
        [
         2,
         1,
         5,
         1,
         70.02,
         "R:2 F:1 M:5"
        ],
        [
         2,
         2,
         1,
         29,
         2864.26,
         "R:2 F:2 M:1"
        ],
        [
         2,
         2,
         2,
         54,
         1443.37,
         "R:2 F:2 M:2"
        ],
        [
         2,
         2,
         3,
         30,
         694.83,
         "R:2 F:2 M:3"
        ],
        [
         2,
         2,
         4,
         8,
         392.07,
         "R:2 F:2 M:4"
        ],
        [
         2,
         2,
         5,
         3,
         194.63,
         "R:2 F:2 M:5"
        ],
        [
         2,
         3,
         1,
         16,
         3868.2,
         "R:2 F:3 M:1"
        ],
        [
         2,
         3,
         2,
         74,
         1263.52,
         "R:2 F:3 M:2"
        ],
        [
         2,
         3,
         3,
         101,
         675.46,
         "R:2 F:3 M:3"
        ],
        [
         2,
         3,
         4,
         58,
         369.65,
         "R:2 F:3 M:4"
        ],
        [
         2,
         3,
         5,
         19,
         190.97,
         "R:2 F:3 M:5"
        ],
        [
         2,
         4,
         1,
         5,
         3035.12,
         "R:2 F:4 M:1"
        ],
        [
         2,
         4,
         2,
         21,
         1312.74,
         "R:2 F:4 M:2"
        ],
        [
         2,
         4,
         3,
         54,
         645.57,
         "R:2 F:4 M:3"
        ],
        [
         2,
         4,
         4,
         58,
         353.16,
         "R:2 F:4 M:4"
        ],
        [
         2,
         4,
         5,
         43,
         147.13,
         "R:2 F:4 M:5"
        ],
        [
         2,
         5,
         1,
         2,
         4441.22,
         "R:2 F:5 M:1"
        ],
        [
         2,
         5,
         2,
         13,
         1447.04,
         "R:2 F:5 M:2"
        ],
        [
         2,
         5,
         3,
         40,
         642.0,
         "R:2 F:5 M:3"
        ],
        [
         2,
         5,
         4,
         74,
         342.58,
         "R:2 F:5 M:4"
        ],
        [
         2,
         5,
         5,
         114,
         142.9,
         "R:2 F:5 M:5"
        ],
        [
         3,
         1,
         1,
         84,
         5340.44,
         "R:3 F:1 M:1"
        ],
        [
         3,
         1,
         2,
         31,
         1477.31,
         "R:3 F:1 M:2"
        ],
        [
         3,
         1,
         3,
         5,
         759.72,
         "R:3 F:1 M:3"
        ],
        [
         3,
         2,
         1,
         37,
         3022.22,
         "R:3 F:2 M:1"
        ],
        [
         3,
         2,
         2,
         84,
         1383.45,
         "R:3 F:2 M:2"
        ],
        [
         3,
         2,
         3,
         50,
         670.62,
         "R:3 F:2 M:3"
        ],
        [
         3,
         2,
         4,
         6,
         388.28,
         "R:3 F:2 M:4"
        ],
        [
         3,
         2,
         5,
         2,
         131.66,
         "R:3 F:2 M:5"
        ],
        [
         3,
         3,
         1,
         22,
         3260.44,
         "R:3 F:3 M:1"
        ],
        [
         3,
         3,
         2,
         54,
         1342.25,
         "R:3 F:3 M:2"
        ],
        [
         3,
         3,
         3,
         102,
         689.11,
         "R:3 F:3 M:3"
        ],
        [
         3,
         3,
         4,
         65,
         365.24,
         "R:3 F:3 M:4"
        ],
        [
         3,
         3,
         5,
         29,
         167.15,
         "R:3 F:3 M:5"
        ],
        [
         3,
         4,
         1,
         3,
         4120.77,
         "R:3 F:4 M:1"
        ],
        [
         3,
         4,
         2,
         16,
         1241.29,
         "R:3 F:4 M:2"
        ],
        [
         3,
         4,
         3,
         43,
         648.68,
         "R:3 F:4 M:3"
        ],
        [
         3,
         4,
         4,
         104,
         360.48,
         "R:3 F:4 M:4"
        ],
        [
         3,
         4,
         5,
         132,
         156.39,
         "R:3 F:4 M:5"
        ],
        [
         4,
         1,
         1,
         177,
         6031.77,
         "R:4 F:1 M:1"
        ],
        [
         4,
         1,
         2,
         61,
         1525.02,
         "R:4 F:1 M:2"
        ],
        [
         4,
         1,
         3,
         8,
         831.32,
         "R:4 F:1 M:3"
        ],
        [
         4,
         1,
         4,
         1,
         306.72,
         "R:4 F:1 M:4"
        ],
        [
         4,
         2,
         1,
         46,
         3478.05,
         "R:4 F:2 M:1"
        ],
        [
         4,
         2,
         2,
         137,
         1368.19,
         "R:4 F:2 M:2"
        ],
        [
         4,
         2,
         3,
         94,
         720.42,
         "R:4 F:2 M:3"
        ],
        [
         4,
         2,
         4,
         22,
         362.63,
         "R:4 F:2 M:4"
        ],
        [
         4,
         3,
         1,
         4,
         3198.55,
         "R:4 F:3 M:1"
        ],
        [
         4,
         3,
         2,
         22,
         1253.7,
         "R:4 F:3 M:2"
        ],
        [
         4,
         3,
         3,
         58,
         639.35,
         "R:4 F:3 M:3"
        ],
        [
         4,
         3,
         4,
         55,
         362.69,
         "R:4 F:3 M:4"
        ],
        [
         4,
         3,
         5,
         18,
         183.93,
         "R:4 F:3 M:5"
        ],
        [
         4,
         4,
         1,
         1,
         2328.84,
         "R:4 F:4 M:1"
        ],
        [
         4,
         4,
         2,
         5,
         1279.8,
         "R:4 F:4 M:2"
        ],
        [
         4,
         4,
         3,
         18,
         640.04,
         "R:4 F:4 M:3"
        ],
        [
         4,
         4,
         4,
         55,
         341.99,
         "R:4 F:4 M:4"
        ],
        [
         4,
         4,
         5,
         87,
         145.25,
         "R:4 F:4 M:5"
        ],
        [
         5,
         1,
         1,
         346,
         11224.67,
         "R:5 F:1 M:1"
        ],
        [
         5,
         1,
         2,
         83,
         1562.86,
         "R:5 F:1 M:2"
        ],
        [
         5,
         1,
         3,
         8,
         830.62,
         "R:5 F:1 M:3"
        ],
        [
         5,
         1,
         4,
         1,
         400.86,
         "R:5 F:1 M:4"
        ],
        [
         5,
         1,
         5,
         1,
         201.12,
         "R:5 F:1 M:5"
        ],
        [
         5,
         2,
         1,
         45,
         3317.6,
         "R:5 F:2 M:1"
        ],
        [
         5,
         2,
         2,
         106,
         1372.97,
         "R:5 F:2 M:2"
        ],
        [
         5,
         2,
         3,
         71,
         706.91,
         "R:5 F:2 M:3"
        ],
        [
         5,
         2,
         4,
         16,
         396.71,
         "R:5 F:2 M:4"
        ],
        [
         5,
         2,
         5,
         5,
         181.06,
         "R:5 F:2 M:5"
        ],
        [
         5,
         3,
         1,
         3,
         57954.78,
         "R:5 F:3 M:1"
        ],
        [
         5,
         3,
         2,
         20,
         1207.36,
         "R:5 F:3 M:2"
        ],
        [
         5,
         3,
         3,
         40,
         667.51,
         "R:5 F:3 M:3"
        ],
        [
         5,
         3,
         4,
         41,
         358.04,
         "R:5 F:3 M:4"
        ],
        [
         5,
         3,
         5,
         17,
         174.22,
         "R:5 F:3 M:5"
        ],
        [
         5,
         4,
         1,
         1,
         3861.0,
         "R:5 F:4 M:1"
        ],
        [
         5,
         4,
         2,
         1,
         1117.48,
         "R:5 F:4 M:2"
        ],
        [
         5,
         4,
         3,
         8,
         607.11,
         "R:5 F:4 M:3"
        ],
        [
         5,
         4,
         4,
         22,
         334.04,
         "R:5 F:4 M:4"
        ],
        [
         5,
         4,
         5,
         35,
         160.5,
         "R:5 F:4 M:5"
        ]
       ],
       "datasetInfos": [],
       "dbfsResultPath": null,
       "isJsonSchema": true,
       "metadata": {},
       "overflow": false,
       "plotOptions": {
        "customPlotOptions": {},
        "displayType": "table",
        "pivotAggregation": null,
        "pivotColumns": null,
        "xColumns": null,
        "yColumns": null
       },
       "removedWidgets": [],
       "schema": [
        {
         "metadata": "{}",
         "name": "R_Score",
         "type": "\"integer\""
        },
        {
         "metadata": "{}",
         "name": "F_Score",
         "type": "\"integer\""
        },
        {
         "metadata": "{}",
         "name": "M_Score",
         "type": "\"integer\""
        },
        {
         "metadata": "{}",
         "name": "CustomerCount",
         "type": "\"long\""
        },
        {
         "metadata": "{}",
         "name": "AvgSpending",
         "type": "\"double\""
        },
        {
         "metadata": "{}",
         "name": "RFM_Label",
         "type": "\"string\""
        }
       ],
       "type": "table"
      }
     },
     "output_type": "display_data"
    },
    {
     "output_type": "display_data",
     "data": {
      "text/plain": [
       "Databricks visualization. Run in Databricks to view."
      ]
     },
     "metadata": {
      "application/vnd.databricks.v1.subcommand+json": {
       "baseErrorDetails": null,
       "bindings": {},
       "collapsed": false,
       "command": "%python\n__backend_agg_display_orig = display\n__backend_agg_dfs = []\ndef __backend_agg_display_new(df):\n    __backend_agg_df_modules = [\"pandas.core.frame\", \"databricks.koalas.frame\", \"pyspark.sql.dataframe\", \"pyspark.pandas.frame\", \"pyspark.sql.connect.dataframe\"]\n    if (type(df).__module__ in __backend_agg_df_modules and type(df).__name__ == 'DataFrame') or isinstance(df, list):\n        __backend_agg_dfs.append(df)\n\ndisplay = __backend_agg_display_new\n\ndef __backend_agg_user_code_fn():\n    import base64\n    exec(base64.standard_b64decode(\"IyBDdXN0b21lciBDb3VudCB2cyBBdmVyYWdlIFNwZW5kaW5nIChieSBSZWNlbmN5IFNjb3JlKQoKc2NhdHRlcl9ieV9yZWNlbmN5ID0gc3Bhcmsuc3FsKCIiIgogICAgU0VMRUNUIAogICAgICAgIFJfU2NvcmUsCiAgICAgICAgRl9TY29yZSwKICAgICAgICBNX1Njb3JlLAogICAgICAgIENPVU5UKCopIGFzIEN1c3RvbWVyQ291bnQsCiAgICAgICAgUk9VTkQoQVZHKE1vbmV0YXJ5KSwgMikgYXMgQXZnU3BlbmRpbmcsCiAgICAgICAgQ09OQ0FUKCdSOicsIFJfU2NvcmUsICcgRjonLCBGX1Njb3JlLCAnIE06JywgTV9TY29yZSkgYXMgUkZNX0xhYmVsCiAgICBGUk9NIGdvbGRfY3VzdG9tZXJfYW5hbHl0aWNzCiAgICBHUk9VUCBCWSBSX1Njb3JlLCBGX1Njb3JlLCBNX1Njb3JlCiAgICBPUkRFUiBCWSBSX1Njb3JlLCBGX1Njb3JlLCBNX1Njb3JlCiIiIikKcHJpbnQoIkN1c3RvbWVyIENvdW50IHZzIEF2ZXJhZ2UgU3BlbmRpbmcgYnkgUl9TY29yZSIpCmRpc3BsYXkoc2NhdHRlcl9ieV9yZWNlbmN5KQ==\").decode())\n\ntry:\n    # run user code\n    __backend_agg_user_code_fn()\n\n    #reset display function\n    display = __backend_agg_display_orig\n\n    if len(__backend_agg_dfs) > 0:\n        # create a temp view\n        if type(__backend_agg_dfs[0]).__module__ == \"databricks.koalas.frame\":\n            # koalas dataframe\n            __backend_agg_dfs[0].to_spark().createOrReplaceTempView(\"DatabricksViewd9fa5f4\")\n        elif type(__backend_agg_dfs[0]).__module__ == \"pandas.core.frame\" or isinstance(__backend_agg_dfs[0], list):\n            # pandas dataframe\n            spark.createDataFrame(__backend_agg_dfs[0]).createOrReplaceTempView(\"DatabricksViewd9fa5f4\")\n        else:\n            __backend_agg_dfs[0].createOrReplaceTempView(\"DatabricksViewd9fa5f4\")\n        #run backend agg\n        display(spark.sql(\"\"\"WITH q AS (select * from DatabricksViewd9fa5f4) SELECT `CustomerCount`,`AvgSpending`,`R_Score` FROM q\"\"\"))\n    else:\n        displayHTML(\"dataframe no longer exists. If you're using dataframe.display(), use display(dataframe) instead.\")\n\n\nfinally:\n    spark.sql(\"drop view if exists DatabricksViewd9fa5f4\")\n    display = __backend_agg_display_orig\n    del __backend_agg_display_new\n    del __backend_agg_display_orig\n    del __backend_agg_dfs\n    del __backend_agg_user_code_fn\n\n",
       "commandTitle": "AvgSpending By CustomerCount",
       "commandType": "auto",
       "commandVersion": 0,
       "commentThread": [],
       "commentsVisible": false,
       "contentSha256Hex": null,
       "customPlotOptions": {
        "redashChart": [
         {
          "key": "type",
          "value": "CHART"
         },
         {
          "key": "options",
          "value": {
           "alignYAxesAtZero": true,
           "coefficient": 1,
           "columnConfigurationMap": {
            "series": {
             "column": "R_Score",
             "id": "column_663318f9395"
            },
            "x": {
             "column": "CustomerCount",
             "id": "column_663318f9393"
            },
            "y": [
             {
              "column": "AvgSpending",
              "id": "column_663318f9394"
             }
            ]
           },
           "dateTimeFormat": "DD/MM/YYYY HH:mm",
           "direction": {
            "type": "counterclockwise"
           },
           "error_y": {
            "type": "data",
            "visible": true
           },
           "globalSeriesType": "scatter",
           "legend": {
            "traceorder": "normal"
           },
           "missingValuesAsZero": true,
           "numberFormat": "0,0.[00000]",
           "percentFormat": "0[.]00%",
           "series": {
            "error_y": {
             "type": "data",
             "visible": true
            },
            "stacking": null
           },
           "seriesOptions": {
            "1": {
             "color": "#00A972"
            },
            "2": {
             "color": "#99DDB4"
            },
            "3": {
             "color": "#8BCAE7"
            },
            "4": {
             "color": "#FFAB00"
            },
            "5": {
             "color": "#FCA4A1"
            },
            "AvgSpending": {
             "type": "scatter",
             "yAxis": 0
            }
           },
           "showDataLabels": false,
           "sizemode": "diameter",
           "sortX": true,
           "sortY": true,
           "swappedAxes": false,
           "textFormat": "",
           "useAggregationsUi": true,
           "valuesOptions": {},
           "version": 2,
           "xAxis": {
            "labels": {
             "enabled": true
            },
            "type": "-"
           },
           "yAxis": [
            {
             "type": "-"
            },
            {
             "opposite": true,
             "type": "-"
            }
           ]
          }
         }
        ]
       },
       "datasetPreviewNameToCmdIdMap": {},
       "diffDeletes": [],
       "diffInserts": [],
       "displayType": "redashChart",
       "error": null,
       "errorDetails": null,
       "errorSummary": null,
       "errorTraceType": null,
       "finishTime": 0,
       "globalVars": {},
       "guid": "",
       "height": "auto",
       "hideCommandCode": false,
       "hideCommandResult": false,
       "iPythonMetadata": null,
       "inputWidgets": {},
       "isLockedInExamMode": false,
       "latestAssumeRoleInfo": null,
       "latestUser": "a user",
       "latestUserId": null,
       "listResultMetadata": null,
       "metadata": {
        "byteLimit": 2048000,
        "rowLimit": 10000
       },
       "nuid": "36668791-f518-4302-bd49-d409c981db97",
       "origId": 0,
       "parentHierarchy": [],
       "pivotAggregation": null,
       "pivotColumns": null,
       "position": 18.90625,
       "resultDbfsErrorMessage": null,
       "resultDbfsStatus": "INLINED_IN_TREE",
       "results": null,
       "showCommandTitle": false,
       "startTime": 0,
       "state": "finished",
       "streamStates": {},
       "subcommandOptions": {
        "queryPlan": {
         "selects": [
          {
           "column": "CustomerCount",
           "type": "column"
          },
          {
           "column": "AvgSpending",
           "type": "column"
          },
          {
           "column": "R_Score",
           "type": "column"
          }
         ]
        }
       },
       "submitTime": 0,
       "subtype": "tableResultSubCmd.visualization",
       "tableResultIndex": 0,
       "tableResultSettingsMap": {},
       "useConsistentColors": false,
       "version": "CommandV1",
       "width": "auto",
       "workflows": [],
       "xColumns": null,
       "yColumns": null
      }
     },
     "output_type": "display_data"
    }
   ],
   "source": [
    "# Customer Count vs Average Spending (by Recency Score)\n",
    "\n",
    "scatter_by_recency = spark.sql(\"\"\"\n",
    "    SELECT \n",
    "        R_Score,\n",
    "        F_Score,\n",
    "        M_Score,\n",
    "        COUNT(*) as CustomerCount,\n",
    "        ROUND(AVG(Monetary), 2) as AvgSpending,\n",
    "        CONCAT('R:', R_Score, ' F:', F_Score, ' M:', M_Score) as RFM_Label\n",
    "    FROM gold_customer_analytics\n",
    "    GROUP BY R_Score, F_Score, M_Score\n",
    "    ORDER BY R_Score, F_Score, M_Score\n",
    "\"\"\")\n",
    "print(\"Customer Count vs Average Spending by R_Score\")\n",
    "display(scatter_by_recency)"
   ]
  },
  {
   "cell_type": "code",
   "execution_count": 0,
   "metadata": {
    "application/vnd.databricks.v1+cell": {
     "cellMetadata": {
      "byteLimit": 2048000,
      "rowLimit": 10000
     },
     "inputWidgets": {},
     "nuid": "f65bb76d-2159-4972-b442-f07eb8874651",
     "showTitle": true,
     "tableResultSettingsMap": {},
     "title": "Top 15 Products by Sales Performance"
    }
   },
   "outputs": [
    {
     "output_type": "stream",
     "name": "stdout",
     "output_type": "stream",
     "text": [
      "Top 15 Products by Revenue\n"
     ]
    },
    {
     "output_type": "display_data",
     "data": {
      "text/html": [
       "<style scoped>\n",
       "  .table-result-container {\n",
       "    max-height: 300px;\n",
       "    overflow: auto;\n",
       "  }\n",
       "  table, th, td {\n",
       "    border: 1px solid black;\n",
       "    border-collapse: collapse;\n",
       "  }\n",
       "  th, td {\n",
       "    padding: 5px;\n",
       "  }\n",
       "  th {\n",
       "    text-align: left;\n",
       "  }\n",
       "</style><div class='table-result-container'><table class='table-result'><thead style='background-color: white'><tr><th>ProductName</th><th>TotalRevenue</th><th>TotalQuantitySold</th><th>UniqueCustomers</th></tr></thead><tbody><tr><td>PAPER CRAFT , LITTLE BIRDIE</td><td>168469.6</td><td>80995</td><td>1</td></tr><tr><td>REGENCY CAKESTAND 3 TIER</td><td>141946.0</td><td>12349</td><td>881</td></tr><tr><td>WHITE HANGING HEART T-LIGHT HO...</td><td>100046.95</td><td>36589</td><td>856</td></tr><tr><td>JUMBO BAG RED RETROSPOT</td><td>84962.28</td><td>46040</td><td>635</td></tr><tr><td>MEDIUM CERAMIC TOP STORAGE JAR</td><td>81405.48</td><td>77907</td><td>138</td></tr><tr><td>PARTY BUNTING</td><td>68614.98</td><td>15244</td><td>708</td></tr><tr><td>ASSORTED COLOUR BIRD ORNAMENT</td><td>56191.64</td><td>35132</td><td>678</td></tr><tr><td>RABBIT NIGHT LIGHT</td><td>51070.28</td><td>27066</td><td>450</td></tr><tr><td>CHILLI LIGHTS</td><td>46235.41</td><td>9640</td><td>205</td></tr><tr><td>PAPER CHAIN KIT 50'S CHRISTMAS...</td><td>42268.48</td><td>15484</td><td>613</td></tr><tr><td>PICNIC BASKET WICKER 60 PIECES</td><td>39619.5</td><td>61</td><td>1</td></tr><tr><td>BLACK RECORD COVER FRAME</td><td>39034.55</td><td>11398</td><td>140</td></tr><tr><td>JUMBO BAG PINK POLKADOT</td><td>37160.76</td><td>20103</td><td>372</td></tr><tr><td>DOORMAT KEEP CALM AND COME IN</td><td>35748.85</td><td>5322</td><td>378</td></tr><tr><td>SPOTTY BUNTING</td><td>35316.5</td><td>7594</td><td>571</td></tr></tbody></table></div>"
      ]
     },
     "metadata": {
      "application/vnd.databricks.v1+output": {
       "addedWidgets": {},
       "aggData": [],
       "aggError": "",
       "aggOverflow": false,
       "aggSchema": [],
       "aggSeriesLimitReached": false,
       "aggType": "",
       "arguments": {},
       "columnCustomDisplayInfos": {},
       "data": [
        [
         "PAPER CRAFT , LITTLE BIRDIE",
         168469.6,
         80995,
         1
        ],
        [
         "REGENCY CAKESTAND 3 TIER",
         141946.0,
         12349,
         881
        ],
        [
         "WHITE HANGING HEART T-LIGHT HO...",
         100046.95,
         36589,
         856
        ],
        [
         "JUMBO BAG RED RETROSPOT",
         84962.28,
         46040,
         635
        ],
        [
         "MEDIUM CERAMIC TOP STORAGE JAR",
         81405.48,
         77907,
         138
        ],
        [
         "PARTY BUNTING",
         68614.98,
         15244,
         708
        ],
        [
         "ASSORTED COLOUR BIRD ORNAMENT",
         56191.64,
         35132,
         678
        ],
        [
         "RABBIT NIGHT LIGHT",
         51070.28,
         27066,
         450
        ],
        [
         "CHILLI LIGHTS",
         46235.41,
         9640,
         205
        ],
        [
         "PAPER CHAIN KIT 50'S CHRISTMAS...",
         42268.48,
         15484,
         613
        ],
        [
         "PICNIC BASKET WICKER 60 PIECES",
         39619.5,
         61,
         1
        ],
        [
         "BLACK RECORD COVER FRAME",
         39034.55,
         11398,
         140
        ],
        [
         "JUMBO BAG PINK POLKADOT",
         37160.76,
         20103,
         372
        ],
        [
         "DOORMAT KEEP CALM AND COME IN",
         35748.85,
         5322,
         378
        ],
        [
         "SPOTTY BUNTING",
         35316.5,
         7594,
         571
        ]
       ],
       "datasetInfos": [],
       "dbfsResultPath": null,
       "isJsonSchema": true,
       "metadata": {},
       "overflow": false,
       "plotOptions": {
        "customPlotOptions": {},
        "displayType": "table",
        "pivotAggregation": null,
        "pivotColumns": null,
        "xColumns": null,
        "yColumns": null
       },
       "removedWidgets": [],
       "schema": [
        {
         "metadata": "{}",
         "name": "ProductName",
         "type": "\"string\""
        },
        {
         "metadata": "{}",
         "name": "TotalRevenue",
         "type": "\"double\""
        },
        {
         "metadata": "{}",
         "name": "TotalQuantitySold",
         "type": "\"long\""
        },
        {
         "metadata": "{}",
         "name": "UniqueCustomers",
         "type": "\"long\""
        }
       ],
       "type": "table"
      }
     },
     "output_type": "display_data"
    },
    {
     "output_type": "display_data",
     "data": {
      "text/plain": [
       "Databricks visualization. Run in Databricks to view."
      ]
     },
     "metadata": {
      "application/vnd.databricks.v1.subcommand+json": {
       "baseErrorDetails": null,
       "bindings": {},
       "collapsed": false,
       "command": "%python\n__backend_agg_display_orig = display\n__backend_agg_dfs = []\ndef __backend_agg_display_new(df):\n    __backend_agg_df_modules = [\"pandas.core.frame\", \"databricks.koalas.frame\", \"pyspark.sql.dataframe\", \"pyspark.pandas.frame\", \"pyspark.sql.connect.dataframe\"]\n    if (type(df).__module__ in __backend_agg_df_modules and type(df).__name__ == 'DataFrame') or isinstance(df, list):\n        __backend_agg_dfs.append(df)\n\ndisplay = __backend_agg_display_new\n\ndef __backend_agg_user_code_fn():\n    import base64\n    exec(base64.standard_b64decode(\"IyBUb3AgcHJvZHVjdHMgYnkgcmV2ZW51ZQp0b3BfcHJvZHVjdHNfdml6ID0gc3Bhcmsuc3FsKCIiIgogICAgU0VMRUNUIAogICAgICAgIENBU0UgCiAgICAgICAgICAgIFdIRU4gTEVOR1RIKERlc2NyaXB0aW9uKSA+IDMwIFRIRU4gQ09OQ0FUKFNVQlNUUklORyhEZXNjcmlwdGlvbiwgMSwgMzApLCAnLi4uJykKICAgICAgICAgICAgRUxTRSBEZXNjcmlwdGlvbiAKICAgICAgICBFTkQgYXMgUHJvZHVjdE5hbWUsCiAgICAgICAgVG90YWxSZXZlbnVlLAogICAgICAgIFRvdGFsUXVhbnRpdHlTb2xkLAogICAgICAgIFVuaXF1ZUN1c3RvbWVycwogICAgRlJPTSBnb2xkX3Byb2R1Y3RfcGVyZm9ybWFuY2UKICAgIE9SREVSIEJZIFRvdGFsUmV2ZW51ZSBERVNDCiAgICBMSU1JVCAxNQoiIiIpLnRvUGFuZGFzKCkKcHJpbnQoIlRvcCAxNSBQcm9kdWN0cyBieSBSZXZlbnVlIikKZGlzcGxheSh0b3BfcHJvZHVjdHNfdml6KQ==\").decode())\n\ntry:\n    # run user code\n    __backend_agg_user_code_fn()\n\n    #reset display function\n    display = __backend_agg_display_orig\n\n    if len(__backend_agg_dfs) > 0:\n        # create a temp view\n        if type(__backend_agg_dfs[0]).__module__ == \"databricks.koalas.frame\":\n            # koalas dataframe\n            __backend_agg_dfs[0].to_spark().createOrReplaceTempView(\"DatabricksViewea37573\")\n        elif type(__backend_agg_dfs[0]).__module__ == \"pandas.core.frame\" or isinstance(__backend_agg_dfs[0], list):\n            # pandas dataframe\n            spark.createDataFrame(__backend_agg_dfs[0]).createOrReplaceTempView(\"DatabricksViewea37573\")\n        else:\n            __backend_agg_dfs[0].createOrReplaceTempView(\"DatabricksViewea37573\")\n        #run backend agg\n        display(spark.sql(\"\"\"WITH q AS (select * from DatabricksViewea37573) SELECT `ProductName`,SUM(`TotalRevenue`) `column_663318f9280`,`ProductName` FROM q GROUP BY `ProductName`\"\"\"))\n    else:\n        displayHTML(\"dataframe no longer exists. If you're using dataframe.display(), use display(dataframe) instead.\")\n\n\nfinally:\n    spark.sql(\"drop view if exists DatabricksViewea37573\")\n    display = __backend_agg_display_orig\n    del __backend_agg_display_new\n    del __backend_agg_display_orig\n    del __backend_agg_dfs\n    del __backend_agg_user_code_fn\n\n",
       "commandTitle": "Top 15 Products",
       "commandType": "auto",
       "commandVersion": 0,
       "commentThread": [],
       "commentsVisible": false,
       "contentSha256Hex": null,
       "customPlotOptions": {
        "redashChart": [
         {
          "key": "type",
          "value": "CHART"
         },
         {
          "key": "options",
          "value": {
           "alignYAxesAtZero": true,
           "coefficient": 1,
           "columnConfigurationMap": {
            "series": {
             "column": "ProductName",
             "id": "column_663318f9277"
            },
            "x": {
             "column": "ProductName",
             "id": "column_663318f9278"
            },
            "y": [
             {
              "column": "TotalRevenue",
              "id": "column_663318f9280",
              "transform": "SUM"
             }
            ]
           },
           "dateTimeFormat": "DD/MM/YYYY HH:mm",
           "direction": {
            "type": "counterclockwise"
           },
           "error_y": {
            "type": "data",
            "visible": true
           },
           "globalSeriesType": "column",
           "hideXAxis": false,
           "hideYAxes": false,
           "isAggregationOn": true,
           "legend": {
            "traceorder": "normal"
           },
           "missingValuesAsZero": true,
           "numberFormat": "0,0.[00000]",
           "percentFormat": "0[.]00%",
           "series": {
            "error_y": {
             "type": "data",
             "visible": true
            },
            "percentValues": false,
            "stacking": null
           },
           "seriesOptions": {
            "SPOTTY BUNTING": {
             "color": "#FCA4A1",
             "yAxis": 0
            },
            "column_663318f9273": {
             "type": "column",
             "yAxis": 0
            },
            "column_663318f9280": {
             "type": "column",
             "yAxis": 0
            }
           },
           "showDataLabels": false,
           "sizemode": "diameter",
           "sortX": false,
           "sortY": true,
           "swappedAxes": true,
           "textFormat": "",
           "useAggregationsUi": true,
           "valuesOptions": {},
           "version": 2,
           "xAxis": {
            "labels": {
             "enabled": false
            },
            "title": {
             "text": "Product"
            },
            "type": "-"
           },
           "yAxis": [
            {
             "title": {
              "text": "Total Revenue"
             },
             "type": "-"
            },
            {
             "opposite": true,
             "type": "-"
            }
           ]
          }
         }
        ]
       },
       "datasetPreviewNameToCmdIdMap": {},
       "diffDeletes": [],
       "diffInserts": [],
       "displayType": "redashChart",
       "error": null,
       "errorDetails": null,
       "errorSummary": null,
       "errorTraceType": null,
       "finishTime": 0,
       "globalVars": {},
       "guid": "",
       "height": "auto",
       "hideCommandCode": false,
       "hideCommandResult": false,
       "iPythonMetadata": null,
       "inputWidgets": {},
       "isLockedInExamMode": false,
       "latestAssumeRoleInfo": null,
       "latestUser": "a user",
       "latestUserId": null,
       "listResultMetadata": null,
       "metadata": {
        "byteLimit": 2048000,
        "rowLimit": 10000
       },
       "nuid": "439d9074-73c4-4529-a977-de6b6b305f2b",
       "origId": 0,
       "parentHierarchy": [],
       "pivotAggregation": null,
       "pivotColumns": null,
       "position": 18.9375,
       "resultDbfsErrorMessage": null,
       "resultDbfsStatus": "INLINED_IN_TREE",
       "results": null,
       "showCommandTitle": false,
       "startTime": 0,
       "state": "finished",
       "streamStates": {},
       "subcommandOptions": {
        "queryPlan": {
         "groups": [
          {
           "column": "ProductName",
           "type": "column"
          },
          {
           "column": "ProductName",
           "type": "column"
          }
         ],
         "selects": [
          {
           "column": "ProductName",
           "type": "column"
          },
          {
           "alias": "column_663318f9280",
           "args": [
            {
             "column": "TotalRevenue",
             "type": "column"
            }
           ],
           "function": "SUM",
           "type": "function"
          },
          {
           "column": "ProductName",
           "type": "column"
          }
         ]
        }
       },
       "submitTime": 0,
       "subtype": "tableResultSubCmd.visualization",
       "tableResultIndex": 0,
       "tableResultSettingsMap": {},
       "useConsistentColors": false,
       "version": "CommandV1",
       "width": "auto",
       "workflows": [],
       "xColumns": null,
       "yColumns": null
      }
     },
     "output_type": "display_data"
    }
   ],
   "source": [
    "# Top products by revenue\n",
    "top_products_viz = spark.sql(\"\"\"\n",
    "    SELECT \n",
    "        CASE \n",
    "            WHEN LENGTH(Description) > 30 THEN CONCAT(SUBSTRING(Description, 1, 30), '...')\n",
    "            ELSE Description \n",
    "        END as ProductName,\n",
    "        TotalRevenue,\n",
    "        TotalQuantitySold,\n",
    "        UniqueCustomers\n",
    "    FROM gold_product_performance\n",
    "    ORDER BY TotalRevenue DESC\n",
    "    LIMIT 15\n",
    "\"\"\").toPandas()\n",
    "print(\"Top 15 Products by Revenue\")\n",
    "display(top_products_viz)"
   ]
  }
 ],
 "metadata": {
  "application/vnd.databricks.v1+notebook": {
   "computePreferences": {
    "hardware": {
     "accelerator": null,
     "gpuPoolId": null,
     "memory": null
    }
   },
   "dashboards": [],
   "environmentMetadata": null,
   "inputWidgetPreferences": null,
   "language": "python",
   "notebookMetadata": {
    "mostRecentlyExecutedCommandWithImplicitDF": {
     "commandId": 4691984026312726,
     "dataframes": [
      "_sqldf"
     ]
    },
    "pythonIndentUnit": 4
   },
   "notebookName": "UCI Online Retail Transactions",
   "widgets": {}
  },
  "language_info": {
   "name": "python"
  }
 },
 "nbformat": 4,
 "nbformat_minor": 0
}